{
 "cells": [
  {
   "cell_type": "markdown",
   "id": "cc96168a",
   "metadata": {},
   "source": [
    "# Spring 2024: CS5720 \n",
    "## Neural Networks & Deep Learning - ICP-3"
   ]
  },
  {
   "cell_type": "markdown",
   "id": "8b1283c3",
   "metadata": {},
   "source": [
    "#### 1Create a class Employee and then do the following\n",
    "    - • Create a data member to count the number of Employees\n",
    "    - • Create a constructor to initialize name, family, salary, department\n",
    "    - • Create a function to average salary\n",
    "    - • Create a Fulltime Employee class and it should inherit the properties of Employee class\n",
    "    - • Create the instances of Fulltime Employee class and Employee class and call their member functions."
   ]
  },
  {
   "cell_type": "code",
   "execution_count": 160,
   "id": "d20c4d37",
   "metadata": {},
   "outputs": [
    {
     "name": "stdout",
     "output_type": "stream",
     "text": [
      "using employee class 407500.0\n",
      "using fulltime employee class 407500.0\n"
     ]
    }
   ],
   "source": [
    "# created class Employee\n",
    "class Employee():\n",
    "    # create data members to keep count of employee count and list of salaries\n",
    "    emp_count = 0\n",
    "    salaries = []\n",
    "    \n",
    "    # constructor to initilize the variables\n",
    "    def __init__(self,name:str,family:int,salary:float,department:str):\n",
    "        self.name = name,\n",
    "        self.family = family,\n",
    "        self.salary = salary,\n",
    "        self.department = department,\n",
    "        Employee.emp_count += 1\n",
    "        Employee.salaries.append(salary)\n",
    "    \n",
    "    # funtion to return average of salary\n",
    "    def avg_salary(self):\n",
    "        return sum(Employee.salaries)/Employee.emp_count\n",
    "    \n",
    "# created FullTimeEmployee class\n",
    "class FullTimeEmployee(Employee):\n",
    "    pass\n",
    "\n",
    "emp1 = Employee(\"Vamsi\",4,240000,\"analytics\")\n",
    "emp2 = Employee(\"Krishna\",3,540000,\"CTO\")\n",
    "\n",
    "ful_emp1 = FullTimeEmployee(\"vamsi krishna\",5,320000,\"data science\")\n",
    "ful_emp2 = FullTimeEmployee(\"Sai\",2,530000,\"data analytics\")\n",
    "\n",
    "print(\"using employee class\",emp1.avg_salary())\n",
    "print(\"using fulltime employee class\",ful_emp1.avg_salary())"
   ]
  },
  {
   "cell_type": "markdown",
   "id": "26ed0c91",
   "metadata": {},
   "source": [
    "#### 2. Using NumPy create random vector of size 20 having only float in the range 1-20. \n",
    "    -Then reshape the array to 4 by 5\n",
    "    -Then replace the max in each row by 0 (axis=1)\n",
    "(you can NOT implement it via for loop)"
   ]
  },
  {
   "cell_type": "code",
   "execution_count": 132,
   "id": "c0621a84",
   "metadata": {},
   "outputs": [],
   "source": [
    "import numpy as np"
   ]
  },
  {
   "cell_type": "code",
   "execution_count": 143,
   "id": "f7a43f89",
   "metadata": {},
   "outputs": [],
   "source": [
    "arr = np.random.uniform(1,20,20) # created a random vector of size 20 in the range of 1 - 20.\n",
    "arr = arr.reshape(4,5) # reshaped the vector to array of (4,5) shape"
   ]
  },
  {
   "cell_type": "code",
   "execution_count": 144,
   "id": "a5925cdd",
   "metadata": {},
   "outputs": [
    {
     "name": "stdout",
     "output_type": "stream",
     "text": [
      "array before\n",
      " [[ 8.6063413  11.76021096  8.03168441  5.63955891  7.00107046]\n",
      " [ 7.37801078 13.21503813 10.32213979  5.99171297 17.80083629]\n",
      " [18.88534946  1.84036519  4.90571023  3.00070214  7.26816271]\n",
      " [ 8.50658689 19.15507481 13.78280477  3.3352148   2.36487955]]\n",
      "\n",
      "\n",
      "array before\n",
      " [[ 8.6063413   1.          8.03168441  5.63955891  7.00107046]\n",
      " [ 7.37801078 13.21503813 10.32213979  5.99171297  1.        ]\n",
      " [ 1.          1.84036519  4.90571023  3.00070214  7.26816271]\n",
      " [ 8.50658689  1.         13.78280477  3.3352148   2.36487955]]\n"
     ]
    }
   ],
   "source": [
    "# replace the max in each row by 0 (axis = 1)\n",
    "# print array before replacement\n",
    "print(\"array before\\n\",arr,end=\"\\n\\n\\n\")\n",
    "\n",
    "# get max elements of each row and reshape it \n",
    "row_wise_max = np.max(arr,axis = 1).reshape(-1,1)\n",
    "\n",
    "arr[arr == row_wise_max] = 1\n",
    "\n",
    "# print array after replacement\n",
    "print(\"array before\\n\", arr)"
   ]
  },
  {
   "cell_type": "code",
   "execution_count": null,
   "id": "571557c1",
   "metadata": {},
   "outputs": [],
   "source": []
  }
 ],
 "metadata": {
  "kernelspec": {
   "display_name": "Python 3 (ipykernel)",
   "language": "python",
   "name": "python3"
  },
  "language_info": {
   "codemirror_mode": {
    "name": "ipython",
    "version": 3
   },
   "file_extension": ".py",
   "mimetype": "text/x-python",
   "name": "python",
   "nbconvert_exporter": "python",
   "pygments_lexer": "ipython3",
   "version": "3.9.7"
  }
 },
 "nbformat": 4,
 "nbformat_minor": 5
}
