{
 "cells": [
  {
   "cell_type": "markdown",
   "id": "10b21fdf",
   "metadata": {},
   "source": [
    "# Spring 2024: CS5720 \n",
    "## Neural Networks & Deep Learning - ICP-1"
   ]
  },
  {
   "cell_type": "markdown",
   "id": "93fcc46e",
   "metadata": {},
   "source": [
    "#### 1. Write a python program for the following:\n",
    "##### – Input the string “Python” as a list of characters from console, delete at least 2 characters, reverse the resultant string and print it."
   ]
  },
  {
   "cell_type": "code",
   "execution_count": 1,
   "id": "b9f70fa3",
   "metadata": {},
   "outputs": [
    {
     "name": "stdout",
     "output_type": "stream",
     "text": [
      "Enter the String: python\n",
      "ntyp\n"
     ]
    }
   ],
   "source": [
    "input_ = list(input(\"Enter the String: \"))\n",
    "del input_[-3:-1] # delete the second last and third characters\n",
    "input_ = \"\".join(input_) # join all the characters \n",
    "input_ = input_[::-1] # reverse the string without using functions\n",
    "print(input_)"
   ]
  },
  {
   "cell_type": "markdown",
   "id": "d530f67b",
   "metadata": {},
   "source": [
    "##### –Take two numbers from user and perform at least 4 arithmetic operations on them."
   ]
  },
  {
   "cell_type": "code",
   "execution_count": 2,
   "id": "e53046a4",
   "metadata": {},
   "outputs": [
    {
     "name": "stdout",
     "output_type": "stream",
     "text": [
      "Enter integer input 1: 2\n",
      "Enter integer input 2: 5\n",
      "sum: 7\n",
      "subtraction:  3\n",
      "modular division:  1\n",
      "power:  32\n"
     ]
    }
   ],
   "source": [
    "num1 = int(input(\"Enter integer input 1: \"))\n",
    "num2 = int(input(\"Enter integer input 2: \"))\n",
    "\n",
    "print(\"sum:\",num1 + num2) #Addition\n",
    "\n",
    "print(\"subtraction: \",num2 - num1) #Subtraction\n",
    "\n",
    "print(\"modular division: \",num2 % num1) # modular division\n",
    "\n",
    "print(\"power: \",num1 ** num2) # power operation"
   ]
  },
  {
   "cell_type": "markdown",
   "id": "66acb7bd",
   "metadata": {},
   "source": [
    "#### 2.  Write a program that accepts a sentence and replace each occurrence of ‘python’ with ‘pythons’."
   ]
  },
  {
   "cell_type": "code",
   "execution_count": 3,
   "id": "3f34cb13",
   "metadata": {},
   "outputs": [
    {
     "name": "stdout",
     "output_type": "stream",
     "text": [
      "Enter the Sentence: i love playing with python\n",
      "i love playing with pythons\n"
     ]
    }
   ],
   "source": [
    "input_ = input(\"Enter the Sentence: \")\n",
    "\n",
    "input_ = input_.replace(\"python\",\"pythons\") # replacing all the strings python with string pythons\n",
    "\n",
    "print(input_)"
   ]
  },
  {
   "cell_type": "markdown",
   "id": "c6c132f5",
   "metadata": {},
   "source": [
    "#### 3. Use the if statement conditions to write a program to print the letter grade based on an input class score. Use the grading scheme we are using in this class. "
   ]
  },
  {
   "cell_type": "code",
   "execution_count": 4,
   "id": "98bdc2ca",
   "metadata": {},
   "outputs": [
    {
     "name": "stdout",
     "output_type": "stream",
     "text": [
      "Enter the class score: 99\n",
      "Your grade is 'A'.\n"
     ]
    }
   ],
   "source": [
    "score = float(input(\"Enter the class score: \"))\n",
    "if score >= 0 and score <= 100:\n",
    "    if score >= 90:\n",
    "        print(\"Your grade is 'A'.\") # if score is greater than or equal to 90\n",
    "    elif score >= 80:\n",
    "        print(\"Your grade is 'B'.\") # if score is greater than or equal to 80\n",
    "    elif score >= 70:\n",
    "        print(\"Your grade is 'C'.\") # if score is greater than or equal to 70\n",
    "    elif score >= 60:\n",
    "        print(\"Your grade is 'D'.\") # if score is greater than or equal to 60\n",
    "    else:\n",
    "        print(\"Your grade is 'F'.\") # if score is less than 60\n",
    "else:\n",
    "    print(\"Please Enter the correct score which is of range 0 to 100\")"
   ]
  },
  {
   "cell_type": "code",
   "execution_count": null,
   "id": "3df69475",
   "metadata": {},
   "outputs": [],
   "source": []
  }
 ],
 "metadata": {
  "kernelspec": {
   "display_name": "Python 3 (ipykernel)",
   "language": "python",
   "name": "python3"
  },
  "language_info": {
   "codemirror_mode": {
    "name": "ipython",
    "version": 3
   },
   "file_extension": ".py",
   "mimetype": "text/x-python",
   "name": "python",
   "nbconvert_exporter": "python",
   "pygments_lexer": "ipython3",
   "version": "3.9.7"
  }
 },
 "nbformat": 4,
 "nbformat_minor": 5
}
