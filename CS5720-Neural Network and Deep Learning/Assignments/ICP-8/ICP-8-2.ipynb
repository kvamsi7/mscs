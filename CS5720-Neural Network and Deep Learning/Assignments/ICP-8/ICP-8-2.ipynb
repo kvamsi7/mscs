{
 "cells": [
  {
   "cell_type": "markdown",
   "id": "929dd5db",
   "metadata": {},
   "source": [
    "# Denoising "
   ]
  },
  {
   "cell_type": "code",
   "execution_count": 9,
   "id": "b52be3da",
   "metadata": {},
   "outputs": [],
   "source": [
    "from keras.layers import Input, Dense\n",
    "from keras.models import Model\n",
    "from keras.datasets import fashion_mnist\n",
    "import numpy as np\n",
    "import matplotlib.pyplot as plt"
   ]
  },
  {
   "cell_type": "code",
   "execution_count": 35,
   "id": "b19e00ef",
   "metadata": {},
   "outputs": [
    {
     "name": "stdout",
     "output_type": "stream",
     "text": [
      "Epoch 1/100\n",
      "1875/1875 [==============================] - 3s 1ms/step - loss: 0.7039 - val_loss: 0.7002\n",
      "Epoch 2/100\n",
      "1875/1875 [==============================] - 2s 1ms/step - loss: 0.6968 - val_loss: 0.6933\n",
      "Epoch 3/100\n",
      "1875/1875 [==============================] - 2s 1ms/step - loss: 0.6899 - val_loss: 0.6866\n",
      "Epoch 4/100\n",
      "1875/1875 [==============================] - 2s 1ms/step - loss: 0.6834 - val_loss: 0.6802\n",
      "Epoch 5/100\n",
      "1875/1875 [==============================] - 2s 1ms/step - loss: 0.6771 - val_loss: 0.6740\n",
      "Epoch 6/100\n",
      "1875/1875 [==============================] - 2s 1ms/step - loss: 0.6710 - val_loss: 0.6681\n",
      "Epoch 7/100\n",
      "1875/1875 [==============================] - 2s 1ms/step - loss: 0.6652 - val_loss: 0.6624\n",
      "Epoch 8/100\n",
      "1875/1875 [==============================] - 2s 1ms/step - loss: 0.6596 - val_loss: 0.6570\n",
      "Epoch 9/100\n",
      "1875/1875 [==============================] - 2s 1ms/step - loss: 0.6542 - val_loss: 0.6517\n",
      "Epoch 10/100\n",
      "1875/1875 [==============================] - 2s 1ms/step - loss: 0.6490 - val_loss: 0.6466\n",
      "Epoch 11/100\n",
      "1875/1875 [==============================] - 2s 1ms/step - loss: 0.6440 - val_loss: 0.6417\n",
      "Epoch 12/100\n",
      "1875/1875 [==============================] - 2s 1ms/step - loss: 0.6392 - val_loss: 0.6370\n",
      "Epoch 13/100\n",
      "1875/1875 [==============================] - 2s 1ms/step - loss: 0.6346 - val_loss: 0.6324\n",
      "Epoch 14/100\n",
      "1875/1875 [==============================] - 2s 1ms/step - loss: 0.6301 - val_loss: 0.6280\n",
      "Epoch 15/100\n",
      "1875/1875 [==============================] - 2s 1ms/step - loss: 0.6257 - val_loss: 0.6237\n",
      "Epoch 16/100\n",
      "1875/1875 [==============================] - 2s 1ms/step - loss: 0.6215 - val_loss: 0.6196\n",
      "Epoch 17/100\n",
      "1875/1875 [==============================] - 2s 1ms/step - loss: 0.6174 - val_loss: 0.6155\n",
      "Epoch 18/100\n",
      "1875/1875 [==============================] - 2s 1ms/step - loss: 0.6134 - val_loss: 0.6116\n",
      "Epoch 19/100\n",
      "1875/1875 [==============================] - 2s 1ms/step - loss: 0.6095 - val_loss: 0.6078\n",
      "Epoch 20/100\n",
      "1875/1875 [==============================] - 2s 1ms/step - loss: 0.6057 - val_loss: 0.6041\n",
      "Epoch 21/100\n",
      "1875/1875 [==============================] - 2s 1ms/step - loss: 0.6020 - val_loss: 0.6004\n",
      "Epoch 22/100\n",
      "1875/1875 [==============================] - 2s 1ms/step - loss: 0.5984 - val_loss: 0.5968\n",
      "Epoch 23/100\n",
      "1875/1875 [==============================] - 2s 1ms/step - loss: 0.5948 - val_loss: 0.5933\n",
      "Epoch 24/100\n",
      "1875/1875 [==============================] - 2s 1ms/step - loss: 0.5913 - val_loss: 0.5897\n",
      "Epoch 25/100\n",
      "1875/1875 [==============================] - 2s 1ms/step - loss: 0.5877 - val_loss: 0.5862\n",
      "Epoch 26/100\n",
      "1875/1875 [==============================] - 2s 1ms/step - loss: 0.5842 - val_loss: 0.5827\n",
      "Epoch 27/100\n",
      "1875/1875 [==============================] - 2s 1ms/step - loss: 0.5807 - val_loss: 0.5792\n",
      "Epoch 28/100\n",
      "1875/1875 [==============================] - 2s 1ms/step - loss: 0.5771 - val_loss: 0.5756\n",
      "Epoch 29/100\n",
      "1875/1875 [==============================] - 2s 1ms/step - loss: 0.5735 - val_loss: 0.5720\n",
      "Epoch 30/100\n",
      "1875/1875 [==============================] - 2s 1ms/step - loss: 0.5699 - val_loss: 0.5684\n",
      "Epoch 31/100\n",
      "1875/1875 [==============================] - 2s 1ms/step - loss: 0.5662 - val_loss: 0.5647\n",
      "Epoch 32/100\n",
      "1875/1875 [==============================] - 2s 1ms/step - loss: 0.5625 - val_loss: 0.5610\n",
      "Epoch 33/100\n",
      "1875/1875 [==============================] - 2s 1ms/step - loss: 0.5587 - val_loss: 0.5572\n",
      "Epoch 34/100\n",
      "1875/1875 [==============================] - 2s 1ms/step - loss: 0.5549 - val_loss: 0.5534\n",
      "Epoch 35/100\n",
      "1875/1875 [==============================] - 2s 1ms/step - loss: 0.5511 - val_loss: 0.5497\n",
      "Epoch 36/100\n",
      "1875/1875 [==============================] - 2s 1ms/step - loss: 0.5474 - val_loss: 0.5461\n",
      "Epoch 37/100\n",
      "1875/1875 [==============================] - 2s 1ms/step - loss: 0.5438 - val_loss: 0.5425\n",
      "Epoch 38/100\n",
      "1875/1875 [==============================] - 3s 1ms/step - loss: 0.5403 - val_loss: 0.5391\n",
      "Epoch 39/100\n",
      "1875/1875 [==============================] - 3s 1ms/step - loss: 0.5370 - val_loss: 0.5359\n",
      "Epoch 40/100\n",
      "1875/1875 [==============================] - 3s 1ms/step - loss: 0.5339 - val_loss: 0.5329\n",
      "Epoch 41/100\n",
      "1875/1875 [==============================] - 2s 1ms/step - loss: 0.5309 - val_loss: 0.5301\n",
      "Epoch 42/100\n",
      "1875/1875 [==============================] - 2s 1ms/step - loss: 0.5282 - val_loss: 0.5274\n",
      "Epoch 43/100\n",
      "1875/1875 [==============================] - 2s 1ms/step - loss: 0.5256 - val_loss: 0.5250\n",
      "Epoch 44/100\n",
      "1875/1875 [==============================] - 2s 1ms/step - loss: 0.5233 - val_loss: 0.5227\n",
      "Epoch 45/100\n",
      "1875/1875 [==============================] - 2s 1ms/step - loss: 0.5211 - val_loss: 0.5207\n",
      "Epoch 46/100\n",
      "1875/1875 [==============================] - 2s 1ms/step - loss: 0.5191 - val_loss: 0.5188\n",
      "Epoch 47/100\n",
      "1875/1875 [==============================] - 2s 1ms/step - loss: 0.5173 - val_loss: 0.5170\n",
      "Epoch 48/100\n",
      "1875/1875 [==============================] - 2s 1ms/step - loss: 0.5156 - val_loss: 0.5154\n",
      "Epoch 49/100\n",
      "1875/1875 [==============================] - 2s 1ms/step - loss: 0.5141 - val_loss: 0.5140\n",
      "Epoch 50/100\n",
      "1875/1875 [==============================] - 2s 1ms/step - loss: 0.5127 - val_loss: 0.5127\n",
      "Epoch 51/100\n",
      "1875/1875 [==============================] - 2s 1ms/step - loss: 0.5114 - val_loss: 0.5114\n",
      "Epoch 52/100\n",
      "1875/1875 [==============================] - 2s 1ms/step - loss: 0.5103 - val_loss: 0.5103\n",
      "Epoch 53/100\n",
      "1875/1875 [==============================] - 2s 1ms/step - loss: 0.5092 - val_loss: 0.5093\n",
      "Epoch 54/100\n",
      "1875/1875 [==============================] - 2s 1ms/step - loss: 0.5082 - val_loss: 0.5084\n",
      "Epoch 55/100\n",
      "1875/1875 [==============================] - 2s 1ms/step - loss: 0.5073 - val_loss: 0.5075\n",
      "Epoch 56/100\n",
      "1875/1875 [==============================] - 2s 1ms/step - loss: 0.5064 - val_loss: 0.5067\n",
      "Epoch 57/100\n",
      "1875/1875 [==============================] - 2s 1ms/step - loss: 0.5057 - val_loss: 0.5060\n",
      "Epoch 58/100\n",
      "1875/1875 [==============================] - 2s 1ms/step - loss: 0.5050 - val_loss: 0.5053\n",
      "Epoch 59/100\n",
      "1875/1875 [==============================] - 2s 1ms/step - loss: 0.5043 - val_loss: 0.5046\n",
      "Epoch 60/100\n",
      "1875/1875 [==============================] - 2s 1ms/step - loss: 0.5037 - val_loss: 0.5041\n",
      "Epoch 61/100\n",
      "1875/1875 [==============================] - 2s 1ms/step - loss: 0.5031 - val_loss: 0.5035\n",
      "Epoch 62/100\n",
      "1875/1875 [==============================] - 2s 1ms/step - loss: 0.5026 - val_loss: 0.5030\n",
      "Epoch 63/100\n",
      "1875/1875 [==============================] - 2s 1ms/step - loss: 0.5021 - val_loss: 0.5025\n",
      "Epoch 64/100\n",
      "1875/1875 [==============================] - 2s 1ms/step - loss: 0.5016 - val_loss: 0.5021\n",
      "Epoch 65/100\n",
      "1875/1875 [==============================] - 3s 1ms/step - loss: 0.5012 - val_loss: 0.5017\n",
      "Epoch 66/100\n",
      "1875/1875 [==============================] - 3s 1ms/step - loss: 0.5008 - val_loss: 0.5013\n",
      "Epoch 67/100\n",
      "1875/1875 [==============================] - 3s 1ms/step - loss: 0.5004 - val_loss: 0.5009\n",
      "Epoch 68/100\n",
      "1875/1875 [==============================] - 3s 1ms/step - loss: 0.5001 - val_loss: 0.5005\n",
      "Epoch 69/100\n",
      "1875/1875 [==============================] - 3s 1ms/step - loss: 0.4997 - val_loss: 0.5002\n",
      "Epoch 70/100\n",
      "1875/1875 [==============================] - 2s 1ms/step - loss: 0.4994 - val_loss: 0.4999\n",
      "Epoch 71/100\n",
      "1875/1875 [==============================] - 3s 1ms/step - loss: 0.4991 - val_loss: 0.4996\n",
      "Epoch 72/100\n",
      "1875/1875 [==============================] - 2s 1ms/step - loss: 0.4988 - val_loss: 0.4993\n",
      "Epoch 73/100\n",
      "1875/1875 [==============================] - 2s 1ms/step - loss: 0.4985 - val_loss: 0.4991\n",
      "Epoch 74/100\n",
      "1875/1875 [==============================] - 2s 1ms/step - loss: 0.4983 - val_loss: 0.4988\n",
      "Epoch 75/100\n",
      "1875/1875 [==============================] - 3s 1ms/step - loss: 0.4980 - val_loss: 0.4986\n",
      "Epoch 76/100\n",
      "1875/1875 [==============================] - 2s 1ms/step - loss: 0.4978 - val_loss: 0.4983\n",
      "Epoch 77/100\n",
      "1875/1875 [==============================] - 3s 1ms/step - loss: 0.4975 - val_loss: 0.4981\n",
      "Epoch 78/100\n",
      "1875/1875 [==============================] - 2s 1ms/step - loss: 0.4973 - val_loss: 0.4979\n",
      "Epoch 79/100\n",
      "1875/1875 [==============================] - 2s 1ms/step - loss: 0.4971 - val_loss: 0.4977\n"
     ]
    },
    {
     "name": "stdout",
     "output_type": "stream",
     "text": [
      "Epoch 80/100\n",
      "1875/1875 [==============================] - 2s 1ms/step - loss: 0.4969 - val_loss: 0.4975\n",
      "Epoch 81/100\n",
      "1875/1875 [==============================] - 2s 1ms/step - loss: 0.4967 - val_loss: 0.4973\n",
      "Epoch 82/100\n",
      "1875/1875 [==============================] - 2s 1ms/step - loss: 0.4965 - val_loss: 0.4971\n",
      "Epoch 83/100\n",
      "1875/1875 [==============================] - 2s 1ms/step - loss: 0.4964 - val_loss: 0.4969\n",
      "Epoch 84/100\n",
      "1875/1875 [==============================] - 2s 1ms/step - loss: 0.4962 - val_loss: 0.4968\n",
      "Epoch 85/100\n",
      "1875/1875 [==============================] - 2s 1ms/step - loss: 0.4960 - val_loss: 0.4966\n",
      "Epoch 86/100\n",
      "1875/1875 [==============================] - 2s 1ms/step - loss: 0.4959 - val_loss: 0.4965\n",
      "Epoch 87/100\n",
      "1875/1875 [==============================] - 2s 1ms/step - loss: 0.4957 - val_loss: 0.4963\n",
      "Epoch 88/100\n",
      "1875/1875 [==============================] - 2s 1ms/step - loss: 0.4956 - val_loss: 0.4962\n",
      "Epoch 89/100\n",
      "1875/1875 [==============================] - 2s 1ms/step - loss: 0.4954 - val_loss: 0.4960\n",
      "Epoch 90/100\n",
      "1875/1875 [==============================] - 3s 1ms/step - loss: 0.4953 - val_loss: 0.4959\n",
      "Epoch 91/100\n",
      "1875/1875 [==============================] - 2s 1ms/step - loss: 0.4952 - val_loss: 0.4958\n",
      "Epoch 92/100\n",
      "1875/1875 [==============================] - 3s 1ms/step - loss: 0.4950 - val_loss: 0.4956\n",
      "Epoch 93/100\n",
      "1875/1875 [==============================] - 3s 1ms/step - loss: 0.4949 - val_loss: 0.4955\n",
      "Epoch 94/100\n",
      "1875/1875 [==============================] - 3s 1ms/step - loss: 0.4948 - val_loss: 0.4954\n",
      "Epoch 95/100\n",
      "1875/1875 [==============================] - 3s 1ms/step - loss: 0.4947 - val_loss: 0.4953\n",
      "Epoch 96/100\n",
      "1875/1875 [==============================] - 2s 1ms/step - loss: 0.4946 - val_loss: 0.4952\n",
      "Epoch 97/100\n",
      "1875/1875 [==============================] - 2s 1ms/step - loss: 0.4944 - val_loss: 0.4950\n",
      "Epoch 98/100\n",
      "1875/1875 [==============================] - 2s 1ms/step - loss: 0.4943 - val_loss: 0.4949\n",
      "Epoch 99/100\n",
      "1875/1875 [==============================] - 2s 1ms/step - loss: 0.4942 - val_loss: 0.4948\n",
      "Epoch 100/100\n",
      "1875/1875 [==============================] - 2s 1ms/step - loss: 0.4941 - val_loss: 0.4947\n"
     ]
    },
    {
     "data": {
      "text/plain": [
       "<keras.callbacks.History at 0x13b32354a60>"
      ]
     },
     "execution_count": 35,
     "metadata": {},
     "output_type": "execute_result"
    }
   ],
   "source": [
    "# this is the size of our encoded representations\n",
    "encoding_dim = 32  # 32 floats -> compression of factor 24.5, assuming the input is 784 floats\n",
    "\n",
    "# this is our input placeholder\n",
    "input_img = Input(shape=(784,))\n",
    "# \"encoded\" is the encoded representation of the input\n",
    "encoded = Dense(encoding_dim, activation='relu')(input_img)\n",
    "encoded = Dense(128, activation='relu')(encoded)\n",
    "encoded = Dense(28, activation='relu')(encoded)\n",
    "# \"decoded\" is the lossy reconstruction of the input\n",
    "decoded = Dense(28, activation='relu')(encoded) # added\n",
    "decoded = Dense(128, activation='sigmoid')(decoded)\n",
    "decoded = Dense(784, activation='sigmoid')(decoded)\n",
    "# this model maps an input to its reconstruction\n",
    "autoencoder = Model(input_img, decoded)\n",
    "# this model maps an input to its encoded representation\n",
    "autoencoder.compile(optimizer='adadelta', loss='binary_crossentropy')\n",
    "\n",
    "(x_train, _), (x_test, _) = fashion_mnist.load_data()\n",
    "x_train = x_train.astype('float32') / 255.\n",
    "x_test = x_test.astype('float32') / 255.\n",
    "x_train = x_train.reshape((len(x_train), np.prod(x_train.shape[1:])))\n",
    "x_test = x_test.reshape((len(x_test), np.prod(x_test.shape[1:])))\n",
    "\n",
    "#introducing noise\n",
    "noise_factor = 0.5\n",
    "x_train_noisy = x_train + noise_factor * np.random.normal(loc=0.0, scale=1.0, size=x_train.shape)\n",
    "x_test_noisy = x_test + noise_factor * np.random.normal(loc=0.0, scale=1.0, size=x_test.shape)\n",
    "\n",
    "autoencoder.fit(x_train_noisy, x_train,\n",
    "                epochs=100,\n",
    "                batch_size=32,\n",
    "                shuffle=True,\n",
    "                validation_data=(x_test_noisy, x_test_noisy))\n"
   ]
  },
  {
   "cell_type": "code",
   "execution_count": 36,
   "id": "bdb9beb5",
   "metadata": {},
   "outputs": [
    {
     "data": {
      "image/png": "[encoded data removed]",
      "text/plain": [
       "<Figure size 432x288 with 1 Axes>"
      ]
     },
     "metadata": {
      "needs_background": "light"
     },
     "output_type": "display_data"
    }
   ],
   "source": [
    "# plot the training history\n",
    "\n",
    "plt.plot(autoencoder.history.history['loss'])\n",
    "plt.plot(autoencoder.history.history['val_loss'])\n",
    "plt.xlabel(\"epoch\")\n",
    "plt.ylabel(\"Loss\")\n",
    "plt.title(\"Loss on train and test data\")\n",
    "plt.legend(['Train','Test'],loc='upper right')\n",
    "plt.show()"
   ]
  },
  {
   "cell_type": "code",
   "execution_count": 38,
   "id": "9fd301ca",
   "metadata": {},
   "outputs": [],
   "source": [
    "decoded_images = autoencoder.predict(x_test_noisy)"
   ]
  },
  {
   "cell_type": "code",
   "execution_count": 42,
   "id": "b7642ff5",
   "metadata": {},
   "outputs": [],
   "source": [
    "# plot the test image\n",
    "def validate_image(data):\n",
    "    random_sample = np.random.choice(data.shape[0],1,replace = False)\n",
    "    print(f\"Tesing on image {random_sample[0]} \\n\")\n",
    "    # plot test data\n",
    "    plt.imshow(x_test_noisy[random_sample].reshape(28,28))\n",
    "    plt.show()\n",
    "    \n",
    "    # plot using reconstructed test data \n",
    "    \n",
    "    plt.imshow(data[random_sample].reshape(28,28))\n",
    "    plt.show()"
   ]
  },
  {
   "cell_type": "code",
   "execution_count": 43,
   "id": "51c4ecb6",
   "metadata": {},
   "outputs": [
    {
     "name": "stdout",
     "output_type": "stream",
     "text": [
      "Tesing on image 1143 \n",
      "\n"
     ]
    },
    {
     "data": {
      "image/png": "[encoded data removed]",
      "text/plain": [
       "<Figure size 432x288 with 1 Axes>"
      ]
     },
     "metadata": {
      "needs_background": "light"
     },
     "output_type": "display_data"
    },
    {
     "data": {
      "image/png": "[encoded data removed]",
      "text/plain": [
       "<Figure size 432x288 with 1 Axes>"
      ]
     },
     "metadata": {
      "needs_background": "light"
     },
     "output_type": "display_data"
    }
   ],
   "source": [
    "# plot few images\n",
    "\n",
    "validate_image(decoded_images)"
   ]
  },
  {
   "cell_type": "code",
   "execution_count": null,
   "id": "3ae6f580",
   "metadata": {},
   "outputs": [],
   "source": []
  }
 ],
 "metadata": {
  "kernelspec": {
   "display_name": "Python 3 (ipykernel)",
   "language": "python",
   "name": "python3"
  },
  "language_info": {
   "codemirror_mode": {
    "name": "ipython",
    "version": 3
   },
   "file_extension": ".py",
   "mimetype": "text/x-python",
   "name": "python",
   "nbconvert_exporter": "python",
   "pygments_lexer": "ipython3",
   "version": "3.8.12"
  }
 },
 "nbformat": 4,
 "nbformat_minor": 5
}
