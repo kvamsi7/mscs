{
 "cells": [
  {
   "cell_type": "code",
   "execution_count": 1,
   "id": "e564bdc3",
   "metadata": {},
   "outputs": [],
   "source": [
    "from keras.layers import Input, Dense\n",
    "from keras.models import Model\n",
    "from keras.datasets import mnist, fashion_mnist\n",
    "import numpy as np\n",
    "import matplotlib.pyplot as plt"
   ]
  },
  {
   "cell_type": "code",
   "execution_count": 64,
   "id": "6149d56b",
   "metadata": {
    "scrolled": true
   },
   "outputs": [
    {
     "name": "stdout",
     "output_type": "stream",
     "text": [
      "Epoch 1/50\n",
      "500/500 [==============================] - 2s 3ms/step - loss: 0.6984 - val_loss: 0.6975\n",
      "Epoch 2/50\n",
      "500/500 [==============================] - 1s 3ms/step - loss: 0.6966 - val_loss: 0.6957\n",
      "Epoch 3/50\n",
      "500/500 [==============================] - 1s 2ms/step - loss: 0.6948 - val_loss: 0.6939\n",
      "Epoch 4/50\n",
      "500/500 [==============================] - 1s 2ms/step - loss: 0.6930 - val_loss: 0.6922\n",
      "Epoch 5/50\n",
      "500/500 [==============================] - 1s 3ms/step - loss: 0.6912 - val_loss: 0.6904\n",
      "Epoch 6/50\n",
      "500/500 [==============================] - 1s 3ms/step - loss: 0.6895 - val_loss: 0.6887\n",
      "Epoch 7/50\n",
      "500/500 [==============================] - 1s 3ms/step - loss: 0.6878 - val_loss: 0.6870\n",
      "Epoch 8/50\n",
      "500/500 [==============================] - 1s 3ms/step - loss: 0.6861 - val_loss: 0.6853\n",
      "Epoch 9/50\n",
      "500/500 [==============================] - 1s 2ms/step - loss: 0.6844 - val_loss: 0.6837\n",
      "Epoch 10/50\n",
      "500/500 [==============================] - 1s 2ms/step - loss: 0.6828 - val_loss: 0.6820\n",
      "Epoch 11/50\n",
      "500/500 [==============================] - 1s 2ms/step - loss: 0.6811 - val_loss: 0.6804\n",
      "Epoch 12/50\n",
      "500/500 [==============================] - 1s 2ms/step - loss: 0.6795 - val_loss: 0.6788\n",
      "Epoch 13/50\n",
      "500/500 [==============================] - 1s 2ms/step - loss: 0.6779 - val_loss: 0.6772\n",
      "Epoch 14/50\n",
      "500/500 [==============================] - 1s 2ms/step - loss: 0.6763 - val_loss: 0.6756\n",
      "Epoch 15/50\n",
      "500/500 [==============================] - 1s 2ms/step - loss: 0.6747 - val_loss: 0.6740\n",
      "Epoch 16/50\n",
      "500/500 [==============================] - 1s 2ms/step - loss: 0.6731 - val_loss: 0.6724\n",
      "Epoch 17/50\n",
      "500/500 [==============================] - 1s 2ms/step - loss: 0.6716 - val_loss: 0.6709\n",
      "Epoch 18/50\n",
      "500/500 [==============================] - 1s 2ms/step - loss: 0.6700 - val_loss: 0.6694\n",
      "Epoch 19/50\n",
      "500/500 [==============================] - 1s 3ms/step - loss: 0.6685 - val_loss: 0.6679\n",
      "Epoch 20/50\n",
      "500/500 [==============================] - 1s 3ms/step - loss: 0.6670 - val_loss: 0.6664\n",
      "Epoch 21/50\n",
      "500/500 [==============================] - 2s 3ms/step - loss: 0.6655 - val_loss: 0.6649\n",
      "Epoch 22/50\n",
      "500/500 [==============================] - 1s 3ms/step - loss: 0.6641 - val_loss: 0.6635\n",
      "Epoch 23/50\n",
      "500/500 [==============================] - 1s 3ms/step - loss: 0.6626 - val_loss: 0.6620\n",
      "Epoch 24/50\n",
      "500/500 [==============================] - 1s 3ms/step - loss: 0.6612 - val_loss: 0.6606\n",
      "Epoch 25/50\n",
      "500/500 [==============================] - 1s 3ms/step - loss: 0.6598 - val_loss: 0.6592\n",
      "Epoch 26/50\n",
      "500/500 [==============================] - 1s 3ms/step - loss: 0.6583 - val_loss: 0.6578\n",
      "Epoch 27/50\n",
      "500/500 [==============================] - 1s 3ms/step - loss: 0.6569 - val_loss: 0.6564\n",
      "Epoch 28/50\n",
      "500/500 [==============================] - 1s 3ms/step - loss: 0.6556 - val_loss: 0.6550\n",
      "Epoch 29/50\n",
      "500/500 [==============================] - 1s 3ms/step - loss: 0.6542 - val_loss: 0.6537\n",
      "Epoch 30/50\n",
      "500/500 [==============================] - 1s 3ms/step - loss: 0.6528 - val_loss: 0.6523\n",
      "Epoch 31/50\n",
      "500/500 [==============================] - 1s 3ms/step - loss: 0.6515 - val_loss: 0.6510\n",
      "Epoch 32/50\n",
      "500/500 [==============================] - 1s 3ms/step - loss: 0.6502 - val_loss: 0.6497\n",
      "Epoch 33/50\n",
      "500/500 [==============================] - 1s 3ms/step - loss: 0.6489 - val_loss: 0.6484\n",
      "Epoch 34/50\n",
      "500/500 [==============================] - 1s 3ms/step - loss: 0.6476 - val_loss: 0.6471\n",
      "Epoch 35/50\n",
      "500/500 [==============================] - 1s 3ms/step - loss: 0.6463 - val_loss: 0.6458\n",
      "Epoch 36/50\n",
      "500/500 [==============================] - 1s 3ms/step - loss: 0.6450 - val_loss: 0.6445\n",
      "Epoch 37/50\n",
      "500/500 [==============================] - 1s 3ms/step - loss: 0.6437 - val_loss: 0.6433\n",
      "Epoch 38/50\n",
      "500/500 [==============================] - 1s 3ms/step - loss: 0.6425 - val_loss: 0.6420\n",
      "Epoch 39/50\n",
      "500/500 [==============================] - 1s 3ms/step - loss: 0.6413 - val_loss: 0.6408\n",
      "Epoch 40/50\n",
      "500/500 [==============================] - 1s 3ms/step - loss: 0.6400 - val_loss: 0.6396\n",
      "Epoch 41/50\n",
      "500/500 [==============================] - 1s 3ms/step - loss: 0.6388 - val_loss: 0.6384\n",
      "Epoch 42/50\n",
      "500/500 [==============================] - 1s 3ms/step - loss: 0.6376 - val_loss: 0.6372\n",
      "Epoch 43/50\n",
      "500/500 [==============================] - 1s 2ms/step - loss: 0.6364 - val_loss: 0.6360\n",
      "Epoch 44/50\n",
      "500/500 [==============================] - 1s 3ms/step - loss: 0.6352 - val_loss: 0.6349\n",
      "Epoch 45/50\n",
      "500/500 [==============================] - 1s 3ms/step - loss: 0.6341 - val_loss: 0.6337\n",
      "Epoch 46/50\n",
      "500/500 [==============================] - 1s 3ms/step - loss: 0.6329 - val_loss: 0.6326\n",
      "Epoch 47/50\n",
      "500/500 [==============================] - 1s 3ms/step - loss: 0.6318 - val_loss: 0.6314\n",
      "Epoch 48/50\n",
      "500/500 [==============================] - 1s 3ms/step - loss: 0.6307 - val_loss: 0.6303\n",
      "Epoch 49/50\n",
      "500/500 [==============================] - 1s 3ms/step - loss: 0.6295 - val_loss: 0.6292\n",
      "Epoch 50/50\n",
      "500/500 [==============================] - 1s 3ms/step - loss: 0.6284 - val_loss: 0.6281\n"
     ]
    },
    {
     "data": {
      "text/plain": [
       "<keras.callbacks.History at 0x1e21699b550>"
      ]
     },
     "execution_count": 64,
     "metadata": {},
     "output_type": "execute_result"
    }
   ],
   "source": [
    "# this is the size of our encoded representations\n",
    "encoding_dim = 32  # 32 floats -> compression of factor 24.5, assuming the input is 784 floats\n",
    "\n",
    "# this is our input placeholder\n",
    "input_img = Input(shape=(784,))\n",
    "# \"encoded\" is the encoded representation of the input\n",
    "encoded = Dense(encoding_dim, activation='relu')(input_img)\n",
    "encoded = Dense(128, activation='relu')(encoded)\n",
    "encoded = Dense(28, activation='relu')(encoded)\n",
    "# \"decoded\" is the lossy reconstruction of the input\n",
    "decoded = Dense(28, activation='relu')(encoded) # added\n",
    "decoded = Dense(128, activation='sigmoid')(decoded)\n",
    "decoded = Dense(784, activation='sigmoid')(decoded)\n",
    "# this model maps an input to its reconstruction\n",
    "autoencoder = Model(input_img, decoded)\n",
    "# this model maps an input to its encoded representation\n",
    "autoencoder.compile(optimizer='adadelta', loss='binary_crossentropy')\n",
    "\n",
    "(x_train, y_train), (x_test, y_test) = fashion_mnist.load_data()\n",
    "x_train = x_train.astype('float32') / 255.\n",
    "x_test = x_test.astype('float32') / 255.\n",
    "x_train = x_train.reshape((len(x_train), np.prod(x_train.shape[1:])))\n",
    "x_test = x_test.reshape((len(x_test), np.prod(x_test.shape[1:])))\n",
    "\n",
    "autoencoder.fit(x_train, x_train,\n",
    "                epochs=50,\n",
    "                batch_size=120,\n",
    "                shuffle=True,\n",
    "                validation_data=(x_test, x_test))"
   ]
  },
  {
   "cell_type": "code",
   "execution_count": 65,
   "id": "530bee8b",
   "metadata": {},
   "outputs": [
    {
     "data": {
      "image/png": "[encoded data removed]",
      "text/plain": [
       "<Figure size 432x288 with 1 Axes>"
      ]
     },
     "metadata": {
      "needs_background": "light"
     },
     "output_type": "display_data"
    }
   ],
   "source": [
    "# plot the training history\n",
    "\n",
    "plt.plot(autoencoder.history.history['loss'])\n",
    "plt.plot(autoencoder.history.history['val_loss'])\n",
    "plt.xlabel(\"epoch\")\n",
    "plt.ylabel(\"Loss\")\n",
    "plt.title(\"Loss on train and test data\")\n",
    "plt.legend(['Train','Test'],loc='upper right')\n",
    "plt.show()"
   ]
  },
  {
   "cell_type": "code",
   "execution_count": 72,
   "id": "a9500323",
   "metadata": {},
   "outputs": [],
   "source": [
    "# plot the test image\n",
    "def validate_image(data):\n",
    "    \n",
    "    random_sample = np.random.choice(data.shape[0],1,replace = False)\n",
    "    print(f\"Tesing on image {random_sample[0]} \\n\")\n",
    "    \n",
    "    # plot a sample of test data\n",
    "    plt.imshow(data[random_sample].reshape(28,28))\n",
    "    plt.show()\n",
    "    \n",
    "    # plot the sample using reconstructed test data \n",
    "    \n",
    "    pred = autoencoder.predict(data[random_sample].reshape(-1,784))\n",
    "    plt.imshow(pred.reshape(28,28))\n",
    "    plt.show()"
   ]
  },
  {
   "cell_type": "code",
   "execution_count": 73,
   "id": "2af793ef",
   "metadata": {},
   "outputs": [
    {
     "name": "stdout",
     "output_type": "stream",
     "text": [
      "Tesing on image 855 \n",
      "\n"
     ]
    },
    {
     "data": {
      "image/png": "[encoded data removed]",
      "text/plain": [
       "<Figure size 432x288 with 1 Axes>"
      ]
     },
     "metadata": {
      "needs_background": "light"
     },
     "output_type": "display_data"
    },
    {
     "data": {
      "image/png": "[encoded data removed]",
      "text/plain": [
       "<Figure size 432x288 with 1 Axes>"
      ]
     },
     "metadata": {
      "needs_background": "light"
     },
     "output_type": "display_data"
    }
   ],
   "source": [
    "validate_image(x_test)"
   ]
  },
  {
   "cell_type": "code",
   "execution_count": null,
   "id": "fbbe46a5",
   "metadata": {},
   "outputs": [],
   "source": []
  }
 ],
 "metadata": {
  "kernelspec": {
   "display_name": "Python 3 (ipykernel)",
   "language": "python",
   "name": "python3"
  },
  "language_info": {
   "codemirror_mode": {
    "name": "ipython",
    "version": 3
   },
   "file_extension": ".py",
   "mimetype": "text/x-python",
   "name": "python",
   "nbconvert_exporter": "python",
   "pygments_lexer": "ipython3",
   "version": "3.8.12"
  }
 },
 "nbformat": 4,
 "nbformat_minor": 5
}
