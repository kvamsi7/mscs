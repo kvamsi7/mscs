{
 "cells": [
  {
   "cell_type": "markdown",
   "id": "a36cdb68",
   "metadata": {},
   "source": [
    "# Spring 2024: CS5720 \n",
    "## Neural Networks & Deep Learning - ICP-5"
   ]
  },
  {
   "cell_type": "markdown",
   "id": "8f3b2025",
   "metadata": {},
   "source": [
    "> #### Problem 1. \n",
    "    Implement Naïve Bayes method using scikit-learn library\n",
    "        - Use dataset available with name glass\n",
    "        - Use train_test_split to create training and testing part\n",
    "        - Evaluate the model on test part using score and  "
   ]
  },
  {
   "cell_type": "code",
   "execution_count": 73,
   "id": "72079df1",
   "metadata": {},
   "outputs": [],
   "source": [
    "# import the necessary libraries\n",
    "import pandas as pd\n",
    "from sklearn.svm import SVC, LinearSVC\n",
    "from sklearn.neighbors import KNeighborsClassifier\n",
    "from sklearn.naive_bayes import GaussianNB\n",
    "from sklearn.model_selection import train_test_split\n",
    "from sklearn.metrics import classification_report\n",
    "import matplotlib.pyplot as plt\n",
    "import seaborn as sn"
   ]
  },
  {
   "cell_type": "code",
   "execution_count": 71,
   "id": "27cf9f26",
   "metadata": {},
   "outputs": [],
   "source": [
    "df = pd.read_csv('./Data/glass.csv')"
   ]
  },
  {
   "cell_type": "code",
   "execution_count": 14,
   "id": "b98019c2",
   "metadata": {},
   "outputs": [
    {
     "name": "stdout",
     "output_type": "stream",
     "text": [
      "<class 'pandas.core.frame.DataFrame'>\n",
      "RangeIndex: 214 entries, 0 to 213\n",
      "Data columns (total 10 columns):\n",
      " #   Column  Non-Null Count  Dtype  \n",
      "---  ------  --------------  -----  \n",
      " 0   RI      214 non-null    float64\n",
      " 1   Na      214 non-null    float64\n",
      " 2   Mg      214 non-null    float64\n",
      " 3   Al      214 non-null    float64\n",
      " 4   Si      214 non-null    float64\n",
      " 5   K       214 non-null    float64\n",
      " 6   Ca      214 non-null    float64\n",
      " 7   Ba      214 non-null    float64\n",
      " 8   Fe      214 non-null    float64\n",
      " 9   Type    214 non-null    int64  \n",
      "dtypes: float64(9), int64(1)\n",
      "memory usage: 16.8 KB\n"
     ]
    }
   ],
   "source": [
    "df.info()"
   ]
  },
  {
   "cell_type": "code",
   "execution_count": 15,
   "id": "8c569496",
   "metadata": {},
   "outputs": [],
   "source": [
    "X = df.drop('Type',axis =1)\n",
    "y = df['Type']"
   ]
  },
  {
   "cell_type": "code",
   "execution_count": 43,
   "id": "7420f49f",
   "metadata": {},
   "outputs": [],
   "source": [
    "# load the train and test data\n",
    "X_train, X_test, y_train, y_test = train_test_split(X,y,test_size=0.2,random_state= 23)"
   ]
  },
  {
   "cell_type": "code",
   "execution_count": 44,
   "id": "fdb44f1c",
   "metadata": {},
   "outputs": [
    {
     "name": "stdout",
     "output_type": "stream",
     "text": [
      "(171, 9)\n",
      "(43, 9)\n",
      "(171,)\n",
      "(43,)\n"
     ]
    }
   ],
   "source": [
    "# print the sizes\n",
    "for _ in (X_train, X_test, y_train, y_test):\n",
    "    print(_.shape)"
   ]
  },
  {
   "cell_type": "code",
   "execution_count": 46,
   "id": "564dab01",
   "metadata": {},
   "outputs": [
    {
     "name": "stdout",
     "output_type": "stream",
     "text": [
      "Empty DataFrame\n",
      "Columns: [RI, Na, Mg, Al, Si, K, Ca, Ba, Fe]\n",
      "Index: []\n"
     ]
    }
   ],
   "source": [
    "# check any null values\n",
    "print(X_train[X_train.isnull().any(axis=1)])"
   ]
  },
  {
   "cell_type": "code",
   "execution_count": 52,
   "id": "e8e1760c",
   "metadata": {},
   "outputs": [
    {
     "data": {
      "text/plain": [
       "GaussianNB()"
      ]
     },
     "execution_count": 52,
     "metadata": {},
     "output_type": "execute_result"
    }
   ],
   "source": [
    "## Naive bayes \n",
    "gnb = GaussianNB()\n",
    "gnb.fit(X_train, y_train)"
   ]
  },
  {
   "cell_type": "code",
   "execution_count": 67,
   "id": "3f1133b9",
   "metadata": {},
   "outputs": [
    {
     "name": "stdout",
     "output_type": "stream",
     "text": [
      "Naive bayes accuracy on train dataset is: 57.31\n"
     ]
    }
   ],
   "source": [
    "y_pred = gnb.predict(X_test)\n",
    "acc_gnb = round(gnb.score(X_train, y_train) * 100, 2)\n",
    "print(\"Naive bayes accuracy on train dataset is:\",acc_gnb)"
   ]
  },
  {
   "cell_type": "code",
   "execution_count": 68,
   "id": "33e48e16",
   "metadata": {},
   "outputs": [
    {
     "name": "stdout",
     "output_type": "stream",
     "text": [
      "Naive bayes accuracy on train dataset is: 37.21\n"
     ]
    }
   ],
   "source": [
    "test_acc_gnb = round(gnb.score(X_test, y_test) * 100, 2)\n",
    "print(\"Naive bayes accuracy on train dataset is:\",test_acc_gnb)"
   ]
  },
  {
   "cell_type": "code",
   "execution_count": 69,
   "id": "b363b779",
   "metadata": {},
   "outputs": [
    {
     "name": "stdout",
     "output_type": "stream",
     "text": [
      "              precision    recall  f1-score   support\n",
      "\n",
      "           1       0.37      0.54      0.44        13\n",
      "           2       0.00      0.00      0.00        19\n",
      "           3       0.12      0.33      0.18         3\n",
      "           5       0.25      1.00      0.40         1\n",
      "           6       0.40      1.00      0.57         2\n",
      "           7       0.83      1.00      0.91         5\n",
      "\n",
      "    accuracy                           0.37        43\n",
      "   macro avg       0.33      0.65      0.42        43\n",
      "weighted avg       0.24      0.37      0.29        43\n",
      "\n"
     ]
    }
   ],
   "source": [
    "# print classification report / confusion matrix \n",
    "print(classification_report(y_test,y_pred))"
   ]
  },
  {
   "cell_type": "markdown",
   "id": "ff7bc356",
   "metadata": {},
   "source": [
    "\n",
    "> #### Problem 2. \n",
    "    Implement linear SVM method using scikit library\n",
    "        - Use the same dataset above\n",
    "        - Use train_test_split to create training and testing part\n",
    "        - Evaluate the model on test part using score and generate report"
   ]
  },
  {
   "cell_type": "code",
   "execution_count": 62,
   "id": "378bcbaa",
   "metadata": {},
   "outputs": [
    {
     "name": "stderr",
     "output_type": "stream",
     "text": [
      "C:\\Users\\vamsi7\\anaconda3\\envs\\ml_prac\\lib\\site-packages\\sklearn\\svm\\_base.py:985: ConvergenceWarning: Liblinear failed to converge, increase the number of iterations.\n",
      "  warnings.warn(\"Liblinear failed to converge, increase \"\n"
     ]
    },
    {
     "data": {
      "text/plain": [
       "LinearSVC()"
      ]
     },
     "execution_count": 62,
     "metadata": {},
     "output_type": "execute_result"
    }
   ],
   "source": [
    "# svm \n",
    "lin_svc = LinearSVC()\n",
    "lin_svc.fit(X_train,y_train)"
   ]
  },
  {
   "cell_type": "code",
   "execution_count": 63,
   "id": "b631a908",
   "metadata": {},
   "outputs": [
    {
     "name": "stdout",
     "output_type": "stream",
     "text": [
      "Naive bayes accuracy on train dataset is: 43.86\n"
     ]
    }
   ],
   "source": [
    "# accuracy score on train dataset\n",
    "y_pred = lin_svc.predict(X_test)\n",
    "acc_lin_svc = round(lin_svc.score(X_train, y_train) * 100, 2)\n",
    "print(\"Naive bayes accuracy on train dataset is:\",acc_lin_svc)"
   ]
  },
  {
   "cell_type": "code",
   "execution_count": 65,
   "id": "d0dd5b0c",
   "metadata": {},
   "outputs": [
    {
     "name": "stdout",
     "output_type": "stream",
     "text": [
      "Naive bayes accuracy on train dataset is: 41.86\n"
     ]
    }
   ],
   "source": [
    "# accuracy score on test dataset\n",
    "test_acc_lin_svc = round(lin_svc.score(X_test, y_test) * 100, 2)\n",
    "print(\"Naive bayes accuracy on train dataset is:\",test_acc_lin_svc)"
   ]
  },
  {
   "cell_type": "code",
   "execution_count": 66,
   "id": "fb8df61d",
   "metadata": {},
   "outputs": [
    {
     "name": "stdout",
     "output_type": "stream",
     "text": [
      "              precision    recall  f1-score   support\n",
      "\n",
      "           1       0.00      0.00      0.00        13\n",
      "           2       0.44      0.74      0.55        19\n",
      "           3       0.00      0.00      0.00         3\n",
      "           5       0.12      1.00      0.22         1\n",
      "           6       0.00      0.00      0.00         2\n",
      "           7       1.00      0.60      0.75         5\n",
      "\n",
      "    accuracy                           0.42        43\n",
      "   macro avg       0.26      0.39      0.25        43\n",
      "weighted avg       0.31      0.42      0.33        43\n",
      "\n"
     ]
    },
    {
     "name": "stderr",
     "output_type": "stream",
     "text": [
      "C:\\Users\\vamsi7\\anaconda3\\envs\\ml_prac\\lib\\site-packages\\sklearn\\metrics\\_classification.py:1248: UndefinedMetricWarning: Precision and F-score are ill-defined and being set to 0.0 in labels with no predicted samples. Use `zero_division` parameter to control this behavior.\n",
      "  _warn_prf(average, modifier, msg_start, len(result))\n",
      "C:\\Users\\vamsi7\\anaconda3\\envs\\ml_prac\\lib\\site-packages\\sklearn\\metrics\\_classification.py:1248: UndefinedMetricWarning: Precision and F-score are ill-defined and being set to 0.0 in labels with no predicted samples. Use `zero_division` parameter to control this behavior.\n",
      "  _warn_prf(average, modifier, msg_start, len(result))\n",
      "C:\\Users\\vamsi7\\anaconda3\\envs\\ml_prac\\lib\\site-packages\\sklearn\\metrics\\_classification.py:1248: UndefinedMetricWarning: Precision and F-score are ill-defined and being set to 0.0 in labels with no predicted samples. Use `zero_division` parameter to control this behavior.\n",
      "  _warn_prf(average, modifier, msg_start, len(result))\n"
     ]
    }
   ],
   "source": [
    "# print classification report / confusion matrix \n",
    "print(classification_report(y_test,y_pred))"
   ]
  },
  {
   "cell_type": "markdown",
   "id": "ae6fc174",
   "metadata": {},
   "source": [
    "##### The support vector machine working well on the data as the Naive bayes is not good for this kind of data"
   ]
  },
  {
   "cell_type": "code",
   "execution_count": 75,
   "id": "d81d1146",
   "metadata": {},
   "outputs": [
    {
     "data": {
      "image/png": "[encoded data removed]",
      "text/plain": [
       "<Figure size 720x720 with 2 Axes>"
      ]
     },
     "metadata": {
      "needs_background": "light"
     },
     "output_type": "display_data"
    }
   ],
   "source": [
    "plt.figure(figsize=(10,10))\n",
    "sn.heatmap(df.corr(),annot=True)\n",
    "plt.show()"
   ]
  },
  {
   "cell_type": "markdown",
   "id": "d49ace0d",
   "metadata": {},
   "source": [
    "##### As we can see that the features are correlated each other which means the features were dependent on each other. Hence the naive bayes is performing poorly on the above dataset"
   ]
  },
  {
   "cell_type": "code",
   "execution_count": null,
   "id": "dc53135c",
   "metadata": {},
   "outputs": [],
   "source": []
  }
 ],
 "metadata": {
  "kernelspec": {
   "display_name": "Python 3 (ipykernel)",
   "language": "python",
   "name": "python3"
  },
  "language_info": {
   "codemirror_mode": {
    "name": "ipython",
    "version": 3
   },
   "file_extension": ".py",
   "mimetype": "text/x-python",
   "name": "python",
   "nbconvert_exporter": "python",
   "pygments_lexer": "ipython3",
   "version": "3.9.7"
  }
 },
 "nbformat": 4,
 "nbformat_minor": 5
}
