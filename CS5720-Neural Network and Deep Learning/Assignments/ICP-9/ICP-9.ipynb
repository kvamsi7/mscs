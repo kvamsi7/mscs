{
  "cells": [
    {
      "cell_type": "code",
      "execution_count": 1,
      "metadata": {
        "id": "lIYdn1woOS1n"
      },
      "outputs": [],
      "source": [
        "import pandas as pd # data processing, CSV file I/O (e.g. pd.read_csv)\n",
        "from keras.preprocessing.text import Tokenizer\n",
        "from keras.utils import pad_sequences\n",
        "from keras.models import Sequential\n",
        "from keras.layers import Dense, Embedding, LSTM, SpatialDropout1D\n",
        "from matplotlib import pyplot\n",
        "from sklearn.model_selection import train_test_split\n",
        "from keras.utils import to_categorical\n",
        "import re\n",
        "from tensorflow.keras.wrappers.scikit_learn import KerasClassifier\n",
        "from sklearn.preprocessing import LabelEncoder\n",
        "from sklearn.model_selection import GridSearchCV\n"
      ]
    },
    {
      "cell_type": "code",
      "source": [
        "data = pd.read_csv(r'/content/Sentiment.csv')\n",
        "# Keeping only the neccessary columns\n",
        "data = data[['text','sentiment']]\n",
        "\n",
        "data['text'] = data['text'].apply(lambda x: x.lower())\n",
        "data['text'] = data['text'].apply((lambda x: re.sub('[^a-zA-z0-9\\s]', '', x)))\n",
        "\n",
        "for idx, row in data.iterrows():\n",
        "    row[0] = row[0].replace('rt', ' ')\n",
        "\n",
        "max_fatures = 2000\n",
        "tokenizer = Tokenizer(num_words=max_fatures, split=' ')\n",
        "tokenizer.fit_on_texts(data['text'].values)\n",
        "X = tokenizer.texts_to_sequences(data['text'].values)\n",
        "\n",
        "X = pad_sequences(X)"
      ],
      "metadata": {
        "id": "QW1VpZH4ibG0"
      },
      "execution_count": 2,
      "outputs": []
    },
    {
      "cell_type": "code",
      "source": [
        "embed_dim = 128\n",
        "lstm_out = 196\n",
        "def createmodel():\n",
        "    model = Sequential()\n",
        "    model.add(Embedding(max_fatures, embed_dim,input_length = X.shape[1]))\n",
        "    model.add(LSTM(lstm_out, dropout=0.2, recurrent_dropout=0.2))\n",
        "    model.add(Dense(3,activation='softmax'))\n",
        "    model.compile(loss = 'categorical_crossentropy', optimizer='adam',metrics = ['accuracy'])\n",
        "    return model\n",
        "# print(model.summary())\n",
        "\n",
        "labelencoder = LabelEncoder()\n",
        "integer_encoded = labelencoder.fit_transform(data['sentiment'])\n",
        "y = to_categorical(integer_encoded)\n",
        "X_train, X_test, Y_train, Y_test = train_test_split(X,y, test_size = 0.33, random_state = 42)"
      ],
      "metadata": {
        "id": "XQv7iTlwjSkZ"
      },
      "execution_count": 3,
      "outputs": []
    },
    {
      "cell_type": "code",
      "source": [
        "# Hyper Tune the model\n",
        "\n",
        "model = KerasClassifier(build_fn=createmodel,verbose=0)\n",
        "batch_size = [32]\n",
        "epochs = [5]\n",
        "# optimizer = ['SGD','RMSprop','Adagrad','Adam']\n",
        "# activation = ['softmax','relu','tanh','sigmoid']\n",
        "# dropout_rate = [0.0, 0.1, 0.2, 0.3, 0.4, 0.5]\n",
        "\n",
        "param_grid = dict(batch_size= batch_size,\n",
        "                  epochs = epochs,\n",
        "#                   optimizer = optimizer,\n",
        "#                   activation = activation,\n",
        "#                   dropout_rate= dropout_rate\n",
        "                 )\n",
        "\n",
        "grid = GridSearchCV(estimator= model,\n",
        "                   param_grid= param_grid)\n",
        "grid_result = grid.fit(X_train, Y_train)"
      ],
      "metadata": {
        "id": "HuhmEw_IjVo8",
        "outputId": "4751cc5a-d210-4229-d771-86864a7d18d0",
        "colab": {
          "base_uri": "https://localhost:8080/"
        }
      },
      "execution_count": 5,
      "outputs": [
        {
          "output_type": "stream",
          "name": "stderr",
          "text": [
            "<ipython-input-5-51e0aaa613a3>:3: DeprecationWarning: KerasClassifier is deprecated, use Sci-Keras (https://github.com/adriangb/scikeras) instead. See https://www.adriangb.com/scikeras/stable/migration.html for help migrating.\n",
            "  model = KerasClassifier(build_fn=createmodel,verbose=0)\n"
          ]
        }
      ]
    },
    {
      "cell_type": "code",
      "source": [
        "print(\"Best params : %f using %s\"%(grid_result.best_score_,grid_result.best_params_))"
      ],
      "metadata": {
        "id": "vAJnIxMtm4yL",
        "outputId": "99c10359-e6ca-48e1-d2d7-842d5fbab985",
        "colab": {
          "base_uri": "https://localhost:8080/"
        }
      },
      "execution_count": 6,
      "outputs": [
        {
          "output_type": "stream",
          "name": "stdout",
          "text": [
            "Best params : 0.614769 using {'batch_size': 32, 'epochs': 5}\n"
          ]
        }
      ]
    },
    {
      "cell_type": "code",
      "source": [
        "batch_size = grid_result.best_params_['batch_size']\n",
        "epochs = grid_result.best_params_['epochs']\n",
        "model = createmodel()\n",
        "model.fit(X_train, Y_train, epochs = epochs, batch_size=batch_size, verbose = 2)"
      ],
      "metadata": {
        "id": "l-mFGCGOROpk",
        "outputId": "205cf5d2-d70a-4064-99d6-dd33bddde1fe",
        "colab": {
          "base_uri": "https://localhost:8080/"
        }
      },
      "execution_count": 16,
      "outputs": [
        {
          "output_type": "stream",
          "name": "stdout",
          "text": [
            "Epoch 1/5\n",
            "153/153 - 28s - loss: 0.9274 - accuracy: 0.5914 - 28s/epoch - 181ms/step\n",
            "Epoch 2/5\n",
            "153/153 - 24s - loss: 0.7527 - accuracy: 0.6714 - 24s/epoch - 157ms/step\n",
            "Epoch 3/5\n",
            "153/153 - 25s - loss: 0.6208 - accuracy: 0.7368 - 25s/epoch - 164ms/step\n",
            "Epoch 4/5\n",
            "153/153 - 24s - loss: 0.5324 - accuracy: 0.7752 - 24s/epoch - 159ms/step\n",
            "Epoch 5/5\n",
            "153/153 - 25s - loss: 0.4507 - accuracy: 0.8125 - 25s/epoch - 166ms/step\n"
          ]
        },
        {
          "output_type": "execute_result",
          "data": {
            "text/plain": [
              "<keras.callbacks.History at 0x7ec30bb845e0>"
            ]
          },
          "metadata": {},
          "execution_count": 16
        }
      ]
    },
    {
      "cell_type": "code",
      "source": [
        "score,acc = model.evaluate(X_test,Y_test,verbose=2,batch_size=batch_size)\n",
        "print(score)\n",
        "print(acc)\n",
        "\n"
      ],
      "metadata": {
        "id": "S2jWGCgBnBd9",
        "outputId": "b0d04645-0855-4e0b-a775-709124c157e8",
        "colab": {
          "base_uri": "https://localhost:8080/"
        }
      },
      "execution_count": 17,
      "outputs": [
        {
          "output_type": "stream",
          "name": "stdout",
          "text": [
            "76/76 - 2s - loss: 1.0519 - accuracy: 0.6137 - 2s/epoch - 20ms/step\n",
            "1.0519311428070068\n",
            "0.6136552691459656\n"
          ]
        }
      ]
    },
    {
      "cell_type": "code",
      "source": [
        "# test example case\n",
        "\n",
        "tweet = \"A lot of good things are happening. We are respected again throughout the world, and that's a great thing.@realDonaldTrump\"\n",
        "\n",
        "tweet = tweet.replace('rt',\"\")\n",
        "\n",
        "tweet_bg = tokenizer.texts_to_sequences(tweet)\n",
        "\n",
        "tweet_padded = pad_sequences(tweet_bg)"
      ],
      "metadata": {
        "id": "oORub14kRaCB"
      },
      "execution_count": 21,
      "outputs": []
    },
    {
      "cell_type": "code",
      "source": [
        "tweet_sent_pred = model.predict(tweet_padded)"
      ],
      "metadata": {
        "id": "GiFAACHUUNvu",
        "outputId": "89261c37-a77e-4754-c5ba-f241496d2edc",
        "colab": {
          "base_uri": "https://localhost:8080/"
        }
      },
      "execution_count": 24,
      "outputs": [
        {
          "output_type": "stream",
          "name": "stdout",
          "text": [
            "4/4 [==============================] - 0s 4ms/step\n"
          ]
        }
      ]
    },
    {
      "cell_type": "code",
      "source": [
        "tweet_sent_pred"
      ],
      "metadata": {
        "id": "3R6Vyko1VGzw",
        "outputId": "1fb4590b-e143-4064-c932-75ea06cfe2f9",
        "colab": {
          "base_uri": "https://localhost:8080/"
        }
      },
      "execution_count": 28,
      "outputs": [
        {
          "output_type": "execute_result",
          "data": {
            "text/plain": [
              "array([[0.41703022, 0.3064663 , 0.2765035 ],\n",
              "       [0.32242325, 0.3128235 , 0.36475328],\n",
              "       [0.32242325, 0.3128235 , 0.36475328],\n",
              "       [0.3789304 , 0.19307324, 0.4279963 ],\n",
              "       [0.12173779, 0.37894967, 0.4993125 ],\n",
              "       [0.32242325, 0.3128235 , 0.36475328],\n",
              "       [0.3789304 , 0.19307324, 0.4279963 ],\n",
              "       [0.32242325, 0.3128235 , 0.36475328],\n",
              "       [0.32242325, 0.3128235 , 0.36475328],\n",
              "       [0.95334864, 0.01811399, 0.02853725],\n",
              "       [0.3789304 , 0.19307324, 0.4279963 ],\n",
              "       [0.3789304 , 0.19307324, 0.4279963 ],\n",
              "       [0.14395496, 0.36503345, 0.49101168],\n",
              "       [0.32242325, 0.3128235 , 0.36475328],\n",
              "       [0.12173779, 0.37894967, 0.4993125 ],\n",
              "       [0.23224777, 0.15724312, 0.610509  ],\n",
              "       [0.24883147, 0.3977808 , 0.35338768],\n",
              "       [0.35977954, 0.44575936, 0.19446114],\n",
              "       [0.95334864, 0.01811399, 0.02853725],\n",
              "       [0.35451624, 0.39537922, 0.25010446],\n",
              "       [0.32242325, 0.3128235 , 0.36475328],\n",
              "       [0.41703022, 0.3064663 , 0.2765035 ],\n",
              "       [0.7111937 , 0.14779013, 0.14101622],\n",
              "       [0.32242325, 0.3128235 , 0.36475328],\n",
              "       [0.32242325, 0.3128235 , 0.36475328],\n",
              "       [0.23224777, 0.15724312, 0.610509  ],\n",
              "       [0.41703022, 0.3064663 , 0.2765035 ],\n",
              "       [0.3718624 , 0.5395426 , 0.08859503],\n",
              "       [0.3718624 , 0.5395426 , 0.08859503],\n",
              "       [0.32242325, 0.3128235 , 0.36475328],\n",
              "       [0.35977954, 0.44575936, 0.19446114],\n",
              "       [0.24883147, 0.3977808 , 0.35338768],\n",
              "       [0.35977954, 0.44575936, 0.19446114],\n",
              "       [0.95334864, 0.01811399, 0.02853725],\n",
              "       [0.32242325, 0.3128235 , 0.36475328],\n",
              "       [0.32242325, 0.3128235 , 0.36475328],\n",
              "       [0.29577348, 0.42928466, 0.27494183],\n",
              "       [0.32242325, 0.3128235 , 0.36475328],\n",
              "       [0.32242325, 0.3128235 , 0.36475328],\n",
              "       [0.41703022, 0.3064663 , 0.2765035 ],\n",
              "       [0.7111937 , 0.14779013, 0.14101622],\n",
              "       [0.32242325, 0.3128235 , 0.36475328],\n",
              "       [0.32242325, 0.3128235 , 0.36475328],\n",
              "       [0.7111937 , 0.14779013, 0.14101622],\n",
              "       [0.32242325, 0.3128235 , 0.36475328],\n",
              "       [0.35451624, 0.39537922, 0.25010446],\n",
              "       [0.3718624 , 0.5395426 , 0.08859503],\n",
              "       [0.32242325, 0.3128235 , 0.36475328],\n",
              "       [0.12249459, 0.77207226, 0.10543317],\n",
              "       [0.12173779, 0.37894967, 0.4993125 ],\n",
              "       [0.32242325, 0.3128235 , 0.36475328],\n",
              "       [0.14395496, 0.36503345, 0.49101168],\n",
              "       [0.32242325, 0.3128235 , 0.36475328],\n",
              "       [0.41703022, 0.3064663 , 0.2765035 ],\n",
              "       [0.95334864, 0.01811399, 0.02853725],\n",
              "       [0.41703022, 0.3064663 , 0.2765035 ],\n",
              "       [0.24883147, 0.3977808 , 0.35338768],\n",
              "       [0.35977954, 0.44575936, 0.19446114],\n",
              "       [0.32242325, 0.3128235 , 0.36475328],\n",
              "       [0.12173779, 0.37894967, 0.4993125 ],\n",
              "       [0.23224777, 0.15724312, 0.610509  ],\n",
              "       [0.7111937 , 0.14779013, 0.14101622],\n",
              "       [0.3789304 , 0.19307324, 0.4279963 ],\n",
              "       [0.28621536, 0.37431607, 0.33946854],\n",
              "       [0.95334864, 0.01811399, 0.02853725],\n",
              "       [0.23224777, 0.15724312, 0.610509  ],\n",
              "       [0.3789304 , 0.19307324, 0.4279963 ],\n",
              "       [0.28621536, 0.37431607, 0.33946854],\n",
              "       [0.12173779, 0.37894967, 0.4993125 ],\n",
              "       [0.32242325, 0.3128235 , 0.36475328],\n",
              "       [0.12173779, 0.37894967, 0.4993125 ],\n",
              "       [0.23224777, 0.15724312, 0.610509  ],\n",
              "       [0.32242325, 0.3128235 , 0.36475328],\n",
              "       [0.32242325, 0.3128235 , 0.36475328],\n",
              "       [0.29577348, 0.42928466, 0.27494183],\n",
              "       [0.3789304 , 0.19307324, 0.4279963 ],\n",
              "       [0.7111937 , 0.14779013, 0.14101622],\n",
              "       [0.32242325, 0.3128235 , 0.36475328],\n",
              "       [0.14395496, 0.36503345, 0.49101168],\n",
              "       [0.32242325, 0.3128235 , 0.36475328],\n",
              "       [0.32242325, 0.3128235 , 0.36475328],\n",
              "       [0.41703022, 0.3064663 , 0.2765035 ],\n",
              "       [0.35977954, 0.44575936, 0.19446114],\n",
              "       [0.14395496, 0.36503345, 0.49101168],\n",
              "       [0.32242325, 0.3128235 , 0.36475328],\n",
              "       [0.12173779, 0.37894967, 0.4993125 ],\n",
              "       [0.23224777, 0.15724312, 0.610509  ],\n",
              "       [0.41703022, 0.3064663 , 0.2765035 ],\n",
              "       [0.12173779, 0.37894967, 0.4993125 ],\n",
              "       [0.32242325, 0.3128235 , 0.36475328],\n",
              "       [0.35451624, 0.39537922, 0.25010446],\n",
              "       [0.32242325, 0.3128235 , 0.36475328],\n",
              "       [0.41703022, 0.3064663 , 0.2765035 ],\n",
              "       [0.32242325, 0.3128235 , 0.36475328],\n",
              "       [0.95334864, 0.01811399, 0.02853725],\n",
              "       [0.7111937 , 0.14779013, 0.14101622],\n",
              "       [0.32242325, 0.3128235 , 0.36475328],\n",
              "       [0.41703022, 0.3064663 , 0.2765035 ],\n",
              "       [0.12173779, 0.37894967, 0.4993125 ],\n",
              "       [0.32242325, 0.3128235 , 0.36475328],\n",
              "       [0.12173779, 0.37894967, 0.4993125 ],\n",
              "       [0.23224777, 0.15724312, 0.610509  ],\n",
              "       [0.24883147, 0.3977808 , 0.35338768],\n",
              "       [0.35977954, 0.44575936, 0.19446114],\n",
              "       [0.95334864, 0.01811399, 0.02853725],\n",
              "       [0.32242325, 0.3128235 , 0.36475328],\n",
              "       [0.32242325, 0.3128235 , 0.36475328],\n",
              "       [0.7111937 , 0.14779013, 0.14101622],\n",
              "       [0.32242325, 0.3128235 , 0.36475328],\n",
              "       [0.41703022, 0.3064663 , 0.2765035 ],\n",
              "       [0.32242325, 0.3128235 , 0.36475328],\n",
              "       [0.14395496, 0.36503345, 0.49101168],\n",
              "       [0.3789304 , 0.19307324, 0.4279963 ],\n",
              "       [0.35977954, 0.44575936, 0.19446114],\n",
              "       [0.41703022, 0.3064663 , 0.2765035 ],\n",
              "       [0.32242325, 0.3128235 , 0.36475328],\n",
              "       [0.14395496, 0.36503345, 0.49101168],\n",
              "       [0.12173779, 0.37894967, 0.4993125 ],\n",
              "       [0.7111937 , 0.14779013, 0.14101622],\n",
              "       [0.28621536, 0.37431607, 0.33946854],\n",
              "       [0.8486336 , 0.10849065, 0.04287575],\n",
              "       [0.37186238, 0.5395426 , 0.08859503]], dtype=float32)"
            ]
          },
          "metadata": {},
          "execution_count": 28
        }
      ]
    },
    {
      "cell_type": "code",
      "source": [
        "model.save(\"model_sent.h5\")"
      ],
      "metadata": {
        "id": "D0AfTL51VT8X"
      },
      "execution_count": 29,
      "outputs": []
    },
    {
      "cell_type": "code",
      "source": [],
      "metadata": {
        "id": "of0dncFeWoaL"
      },
      "execution_count": null,
      "outputs": []
    }
  ],
  "metadata": {
    "colab": {
      "name": "scratchpad",
      "provenance": [],
      "gpuType": "T4"
    },
    "kernelspec": {
      "display_name": "Python 3",
      "name": "python3"
    },
    "accelerator": "GPU"
  },
  "nbformat": 4,
  "nbformat_minor": 0
}