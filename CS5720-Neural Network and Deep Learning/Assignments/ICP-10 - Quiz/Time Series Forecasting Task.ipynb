{
 "cells": [
  {
   "cell_type": "code",
   "execution_count": 10,
   "id": "d7b49ad5",
   "metadata": {},
   "outputs": [],
   "source": [
    "import numpy as np\n",
    "import matplotlib.pyplot as plt\n",
    "import pandas as pd\n",
    "from sklearn.preprocessing import MinMaxScaler\n",
    "from keras.models import Sequential\n",
    "from keras.layers import LSTM, Dense, Dropout, Bidirectional"
   ]
  },
  {
   "cell_type": "code",
   "execution_count": 11,
   "id": "b8c745b4",
   "metadata": {},
   "outputs": [],
   "source": [
    "# Import dataset\n",
    "dataset = pd.read_csv('training.csv', delimiter='\\t')\n",
    "dataset = dataset.dropna(subset=[\"Temperature\"])\n",
    "dataset = dataset.reset_index(drop=True)\n",
    "training_set = dataset.iloc[:, 1:2].values"
   ]
  },
  {
   "cell_type": "code",
   "execution_count": 12,
   "id": "bf34a3e2",
   "metadata": {},
   "outputs": [],
   "source": [
    "# Feature Scaling\n",
    "sc = MinMaxScaler(feature_range=(0, 1))\n",
    "training_set_scaled = sc.fit_transform(training_set)"
   ]
  },
  {
   "cell_type": "code",
   "execution_count": 13,
   "id": "f71469c3",
   "metadata": {},
   "outputs": [],
   "source": [
    "# Preparing the training data\n",
    "x_train = []\n",
    "y_train = []\n",
    "n_future = 4  # Forecast next 4 days temperature\n",
    "n_past = 30   # Use past 30 days\n",
    "for i in range(n_past, len(training_set_scaled) - n_future + 1):\n",
    "    x_train.append(training_set_scaled[i - n_past:i, 0])\n",
    "    y_train.append(training_set_scaled[i:i + n_future, 0])\n",
    "x_train, y_train = np.array(x_train), np.array(y_train)\n",
    "x_train = np.reshape(x_train, (x_train.shape[0], x_train.shape[1], 1))"
   ]
  },
  {
   "cell_type": "code",
   "execution_count": 16,
   "id": "0448f7b9",
   "metadata": {},
   "outputs": [
    {
     "name": "stdout",
     "output_type": "stream",
     "text": [
      "Epoch 1/50\n",
      "95/95 [==============================] - 7s 22ms/step - loss: 0.0363 - acc: 0.2363\n",
      "Epoch 2/50\n",
      "95/95 [==============================] - 2s 21ms/step - loss: 0.0147 - acc: 0.2433\n",
      "Epoch 3/50\n",
      "95/95 [==============================] - 2s 21ms/step - loss: 0.0127 - acc: 0.2439\n",
      "Epoch 4/50\n",
      "95/95 [==============================] - 2s 20ms/step - loss: 0.0117 - acc: 0.2604\n",
      "Epoch 5/50\n",
      "95/95 [==============================] - 2s 20ms/step - loss: 0.0108 - acc: 0.2512\n",
      "Epoch 6/50\n",
      "95/95 [==============================] - 2s 21ms/step - loss: 0.0102 - acc: 0.2505\n",
      "Epoch 7/50\n",
      "95/95 [==============================] - 2s 25ms/step - loss: 0.0096 - acc: 0.2551\n",
      "Epoch 8/50\n",
      "95/95 [==============================] - 2s 23ms/step - loss: 0.0093 - acc: 0.2393: 0s - loss: 0.0092 - acc: 0.23\n",
      "Epoch 9/50\n",
      "95/95 [==============================] - 2s 24ms/step - loss: 0.0089 - acc: 0.2732: 1s \n",
      "Epoch 10/50\n",
      "95/95 [==============================] - 2s 23ms/step - loss: 0.0085 - acc: 0.2488\n",
      "Epoch 11/50\n",
      "95/95 [==============================] - 2s 22ms/step - loss: 0.0086 - acc: 0.2693\n",
      "Epoch 12/50\n",
      "95/95 [==============================] - 2s 21ms/step - loss: 0.0081 - acc: 0.2788\n",
      "Epoch 13/50\n",
      "95/95 [==============================] - 2s 21ms/step - loss: 0.0081 - acc: 0.2604\n",
      "Epoch 14/50\n",
      "95/95 [==============================] - 2s 21ms/step - loss: 0.0078 - acc: 0.2564\n",
      "Epoch 15/50\n",
      "95/95 [==============================] - 2s 25ms/step - loss: 0.0079 - acc: 0.2459\n",
      "Epoch 16/50\n",
      "95/95 [==============================] - 2s 21ms/step - loss: 0.0078 - acc: 0.2521\n",
      "Epoch 17/50\n",
      "95/95 [==============================] - 2s 23ms/step - loss: 0.0077 - acc: 0.2742\n",
      "Epoch 18/50\n",
      "95/95 [==============================] - 2s 22ms/step - loss: 0.0075 - acc: 0.2587\n",
      "Epoch 19/50\n",
      "95/95 [==============================] - 2s 23ms/step - loss: 0.0074 - acc: 0.2591\n",
      "Epoch 20/50\n",
      "95/95 [==============================] - 2s 23ms/step - loss: 0.0074 - acc: 0.2656\n",
      "Epoch 21/50\n",
      "95/95 [==============================] - 2s 24ms/step - loss: 0.0072 - acc: 0.2571: 0s - loss: 0.0071 - acc: 0\n",
      "Epoch 22/50\n",
      "95/95 [==============================] - 2s 22ms/step - loss: 0.0071 - acc: 0.2755\n",
      "Epoch 23/50\n",
      "95/95 [==============================] - 2s 22ms/step - loss: 0.0072 - acc: 0.2765\n",
      "Epoch 24/50\n",
      "95/95 [==============================] - 2s 21ms/step - loss: 0.0070 - acc: 0.2788\n",
      "Epoch 25/50\n",
      "95/95 [==============================] - 2s 22ms/step - loss: 0.0072 - acc: 0.2883\n",
      "Epoch 26/50\n",
      "95/95 [==============================] - 2s 21ms/step - loss: 0.0072 - acc: 0.2837\n",
      "Epoch 27/50\n",
      "95/95 [==============================] - 2s 21ms/step - loss: 0.0070 - acc: 0.2650\n",
      "Epoch 28/50\n",
      "95/95 [==============================] - 2s 20ms/step - loss: 0.0070 - acc: 0.2808\n",
      "Epoch 29/50\n",
      "95/95 [==============================] - 2s 20ms/step - loss: 0.0069 - acc: 0.2729\n",
      "Epoch 30/50\n",
      "95/95 [==============================] - 2s 20ms/step - loss: 0.0068 - acc: 0.2831\n",
      "Epoch 31/50\n",
      "95/95 [==============================] - 2s 19ms/step - loss: 0.0068 - acc: 0.2775\n",
      "Epoch 32/50\n",
      "95/95 [==============================] - 2s 21ms/step - loss: 0.0068 - acc: 0.2890\n",
      "Epoch 33/50\n",
      "95/95 [==============================] - 2s 20ms/step - loss: 0.0066 - acc: 0.2646\n",
      "Epoch 34/50\n",
      "95/95 [==============================] - 2s 20ms/step - loss: 0.0067 - acc: 0.2956\n",
      "Epoch 35/50\n",
      "95/95 [==============================] - 2s 20ms/step - loss: 0.0068 - acc: 0.2834\n",
      "Epoch 36/50\n",
      "95/95 [==============================] - 2s 22ms/step - loss: 0.0066 - acc: 0.2847\n",
      "Epoch 37/50\n",
      "95/95 [==============================] - 2s 21ms/step - loss: 0.0068 - acc: 0.2913\n",
      "Epoch 38/50\n",
      "95/95 [==============================] - 2s 21ms/step - loss: 0.0068 - acc: 0.2949\n",
      "Epoch 39/50\n",
      "95/95 [==============================] - 2s 20ms/step - loss: 0.0068 - acc: 0.2864\n",
      "Epoch 40/50\n",
      "95/95 [==============================] - 2s 21ms/step - loss: 0.0065 - acc: 0.2913\n",
      "Epoch 41/50\n",
      "95/95 [==============================] - 2s 20ms/step - loss: 0.0066 - acc: 0.2860\n",
      "Epoch 42/50\n",
      "95/95 [==============================] - 2s 20ms/step - loss: 0.0065 - acc: 0.2956\n",
      "Epoch 43/50\n",
      "95/95 [==============================] - 2s 20ms/step - loss: 0.0065 - acc: 0.3058\n",
      "Epoch 44/50\n",
      "95/95 [==============================] - 2s 21ms/step - loss: 0.0066 - acc: 0.3032\n",
      "Epoch 45/50\n",
      "95/95 [==============================] - 2s 22ms/step - loss: 0.0065 - acc: 0.2953\n",
      "Epoch 46/50\n",
      "95/95 [==============================] - 2s 22ms/step - loss: 0.0066 - acc: 0.2992\n",
      "Epoch 47/50\n",
      "95/95 [==============================] - 2s 21ms/step - loss: 0.0066 - acc: 0.3114\n",
      "Epoch 48/50\n",
      "95/95 [==============================] - 2s 20ms/step - loss: 0.0065 - acc: 0.2992\n",
      "Epoch 49/50\n",
      "95/95 [==============================] - 2s 21ms/step - loss: 0.0064 - acc: 0.2972\n",
      "Epoch 50/50\n",
      "95/95 [==============================] - 2s 19ms/step - loss: 0.0065 - acc: 0.3071\n"
     ]
    },
    {
     "data": {
      "text/plain": [
       "<keras.callbacks.History at 0x189107567f0>"
      ]
     },
     "execution_count": 16,
     "metadata": {},
     "output_type": "execute_result"
    }
   ],
   "source": [
    "# Building the model\n",
    "regressor = Sequential()\n",
    "regressor.add(Bidirectional(LSTM(units=30, return_sequences=True, input_shape=(x_train.shape[1], 1))))\n",
    "regressor.add(Dropout(0.2))\n",
    "regressor.add(LSTM(units=30, return_sequences=True))\n",
    "regressor.add(Dropout(0.2))\n",
    "regressor.add(LSTM(units=30, return_sequences=True))\n",
    "regressor.add(Dropout(0.2))\n",
    "regressor.add(LSTM(units=30))\n",
    "regressor.add(Dropout(0.2))\n",
    "regressor.add(Dense(units=n_future, activation='linear'))\n",
    "regressor.compile(optimizer='adam', loss='mean_squared_error', metrics=['acc'])\n",
    "regressor.fit(x_train, y_train, epochs=50, batch_size=32)"
   ]
  },
  {
   "cell_type": "code",
   "execution_count": 14,
   "id": "94a5c991",
   "metadata": {},
   "outputs": [],
   "source": [
    "# Prepare test dataset\n",
    "test_dataset = pd.read_csv('testing.csv').iloc[:30, 1:2].values\n",
    "test_dataset = sc.transform(test_dataset)\n",
    "test_dataset = np.reshape(test_dataset, (1, test_dataset.shape[0], 1))\n",
    "\n",
    "predicted_temperature = regressor.predict(test_dataset)\n",
    "predicted_temperature = sc.inverse_transform(predicted_temperature.reshape(-1, 1))"
   ]
  },
  {
   "cell_type": "code",
   "execution_count": 15,
   "id": "2ee87fe5",
   "metadata": {
    "scrolled": false
   },
   "outputs": [
    {
     "data": {
      "image/png": "[encoded data removed]",
      "text/plain": [
       "<Figure size 720x432 with 1 Axes>"
      ]
     },
     "metadata": {
      "needs_background": "light"
     },
     "output_type": "display_data"
    }
   ],
   "source": [
    "# Plotting\n",
    "real_temperature = pd.read_csv('_testing.csv').iloc[30:34, 1].values  # Assuming there are only 4 future real values\n",
    "plt.figure(figsize=(10, 6))\n",
    "plt.plot(real_temperature, label='Real Temperature')\n",
    "plt.plot(predicted_temperature, label='Predicted Temperature')\n",
    "plt.legend()\n",
    "plt.show()"
   ]
  },
  {
   "cell_type": "code",
   "execution_count": null,
   "id": "5a0dc812",
   "metadata": {},
   "outputs": [],
   "source": []
  }
 ],
 "metadata": {
  "kernelspec": {
   "display_name": "Python 3 (ipykernel)",
   "language": "python",
   "name": "python3"
  },
  "language_info": {
   "codemirror_mode": {
    "name": "ipython",
    "version": 3
   },
   "file_extension": ".py",
   "mimetype": "text/x-python",
   "name": "python",
   "nbconvert_exporter": "python",
   "pygments_lexer": "ipython3",
   "version": "3.8.12"
  }
 },
 "nbformat": 4,
 "nbformat_minor": 5
}
