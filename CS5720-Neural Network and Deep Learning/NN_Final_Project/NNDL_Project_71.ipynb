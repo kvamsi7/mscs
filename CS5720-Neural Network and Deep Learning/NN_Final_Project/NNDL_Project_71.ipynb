{
  "cells": [
    {
      "cell_type": "markdown",
      "metadata": {
        "id": "view-in-github",
        "colab_type": "text"
      },
      "source": [
        "<a href=\"https://colab.research.google.com/github/kvamsi7/mscs/blob/main/CS5720-Neural%20Network%20and%20Deep%20Learning/NN_Final_Project/NNDL_Project_71.ipynb\" target=\"_parent\"><img src=\"https://colab.research.google.com/assets/colab-badge.svg\" alt=\"Open In Colab\"/></a>"
      ]
    },
    {
      "cell_type": "code",
      "execution_count": 1,
      "metadata": {
        "colab": {
          "base_uri": "https://localhost:8080/",
          "height": 73
        },
        "id": "6ptLZDNpo2Fk",
        "outputId": "e6106193-1c45-4e42-9d93-9d8dbb94cc0e"
      },
      "outputs": [
        {
          "output_type": "display_data",
          "data": {
            "text/plain": [
              "<IPython.core.display.HTML object>"
            ],
            "text/html": [
              "\n",
              "     <input type=\"file\" id=\"files-8d55b52b-7927-47ec-9a35-b806087a9727\" name=\"files[]\" multiple disabled\n",
              "        style=\"border:none\" />\n",
              "     <output id=\"result-8d55b52b-7927-47ec-9a35-b806087a9727\">\n",
              "      Upload widget is only available when the cell has been executed in the\n",
              "      current browser session. Please rerun this cell to enable.\n",
              "      </output>\n",
              "      <script>// Copyright 2017 Google LLC\n",
              "//\n",
              "// Licensed under the Apache License, Version 2.0 (the \"License\");\n",
              "// you may not use this file except in compliance with the License.\n",
              "// You may obtain a copy of the License at\n",
              "//\n",
              "//      http://www.apache.org/licenses/LICENSE-2.0\n",
              "//\n",
              "// Unless required by applicable law or agreed to in writing, software\n",
              "// distributed under the License is distributed on an \"AS IS\" BASIS,\n",
              "// WITHOUT WARRANTIES OR CONDITIONS OF ANY KIND, either express or implied.\n",
              "// See the License for the specific language governing permissions and\n",
              "// limitations under the License.\n",
              "\n",
              "/**\n",
              " * @fileoverview Helpers for google.colab Python module.\n",
              " */\n",
              "(function(scope) {\n",
              "function span(text, styleAttributes = {}) {\n",
              "  const element = document.createElement('span');\n",
              "  element.textContent = text;\n",
              "  for (const key of Object.keys(styleAttributes)) {\n",
              "    element.style[key] = styleAttributes[key];\n",
              "  }\n",
              "  return element;\n",
              "}\n",
              "\n",
              "// Max number of bytes which will be uploaded at a time.\n",
              "const MAX_PAYLOAD_SIZE = 100 * 1024;\n",
              "\n",
              "function _uploadFiles(inputId, outputId) {\n",
              "  const steps = uploadFilesStep(inputId, outputId);\n",
              "  const outputElement = document.getElementById(outputId);\n",
              "  // Cache steps on the outputElement to make it available for the next call\n",
              "  // to uploadFilesContinue from Python.\n",
              "  outputElement.steps = steps;\n",
              "\n",
              "  return _uploadFilesContinue(outputId);\n",
              "}\n",
              "\n",
              "// This is roughly an async generator (not supported in the browser yet),\n",
              "// where there are multiple asynchronous steps and the Python side is going\n",
              "// to poll for completion of each step.\n",
              "// This uses a Promise to block the python side on completion of each step,\n",
              "// then passes the result of the previous step as the input to the next step.\n",
              "function _uploadFilesContinue(outputId) {\n",
              "  const outputElement = document.getElementById(outputId);\n",
              "  const steps = outputElement.steps;\n",
              "\n",
              "  const next = steps.next(outputElement.lastPromiseValue);\n",
              "  return Promise.resolve(next.value.promise).then((value) => {\n",
              "    // Cache the last promise value to make it available to the next\n",
              "    // step of the generator.\n",
              "    outputElement.lastPromiseValue = value;\n",
              "    return next.value.response;\n",
              "  });\n",
              "}\n",
              "\n",
              "/**\n",
              " * Generator function which is called between each async step of the upload\n",
              " * process.\n",
              " * @param {string} inputId Element ID of the input file picker element.\n",
              " * @param {string} outputId Element ID of the output display.\n",
              " * @return {!Iterable<!Object>} Iterable of next steps.\n",
              " */\n",
              "function* uploadFilesStep(inputId, outputId) {\n",
              "  const inputElement = document.getElementById(inputId);\n",
              "  inputElement.disabled = false;\n",
              "\n",
              "  const outputElement = document.getElementById(outputId);\n",
              "  outputElement.innerHTML = '';\n",
              "\n",
              "  const pickedPromise = new Promise((resolve) => {\n",
              "    inputElement.addEventListener('change', (e) => {\n",
              "      resolve(e.target.files);\n",
              "    });\n",
              "  });\n",
              "\n",
              "  const cancel = document.createElement('button');\n",
              "  inputElement.parentElement.appendChild(cancel);\n",
              "  cancel.textContent = 'Cancel upload';\n",
              "  const cancelPromise = new Promise((resolve) => {\n",
              "    cancel.onclick = () => {\n",
              "      resolve(null);\n",
              "    };\n",
              "  });\n",
              "\n",
              "  // Wait for the user to pick the files.\n",
              "  const files = yield {\n",
              "    promise: Promise.race([pickedPromise, cancelPromise]),\n",
              "    response: {\n",
              "      action: 'starting',\n",
              "    }\n",
              "  };\n",
              "\n",
              "  cancel.remove();\n",
              "\n",
              "  // Disable the input element since further picks are not allowed.\n",
              "  inputElement.disabled = true;\n",
              "\n",
              "  if (!files) {\n",
              "    return {\n",
              "      response: {\n",
              "        action: 'complete',\n",
              "      }\n",
              "    };\n",
              "  }\n",
              "\n",
              "  for (const file of files) {\n",
              "    const li = document.createElement('li');\n",
              "    li.append(span(file.name, {fontWeight: 'bold'}));\n",
              "    li.append(span(\n",
              "        `(${file.type || 'n/a'}) - ${file.size} bytes, ` +\n",
              "        `last modified: ${\n",
              "            file.lastModifiedDate ? file.lastModifiedDate.toLocaleDateString() :\n",
              "                                    'n/a'} - `));\n",
              "    const percent = span('0% done');\n",
              "    li.appendChild(percent);\n",
              "\n",
              "    outputElement.appendChild(li);\n",
              "\n",
              "    const fileDataPromise = new Promise((resolve) => {\n",
              "      const reader = new FileReader();\n",
              "      reader.onload = (e) => {\n",
              "        resolve(e.target.result);\n",
              "      };\n",
              "      reader.readAsArrayBuffer(file);\n",
              "    });\n",
              "    // Wait for the data to be ready.\n",
              "    let fileData = yield {\n",
              "      promise: fileDataPromise,\n",
              "      response: {\n",
              "        action: 'continue',\n",
              "      }\n",
              "    };\n",
              "\n",
              "    // Use a chunked sending to avoid message size limits. See b/62115660.\n",
              "    let position = 0;\n",
              "    do {\n",
              "      const length = Math.min(fileData.byteLength - position, MAX_PAYLOAD_SIZE);\n",
              "      const chunk = new Uint8Array(fileData, position, length);\n",
              "      position += length;\n",
              "\n",
              "      const base64 = btoa(String.fromCharCode.apply(null, chunk));\n",
              "      yield {\n",
              "        response: {\n",
              "          action: 'append',\n",
              "          file: file.name,\n",
              "          data: base64,\n",
              "        },\n",
              "      };\n",
              "\n",
              "      let percentDone = fileData.byteLength === 0 ?\n",
              "          100 :\n",
              "          Math.round((position / fileData.byteLength) * 100);\n",
              "      percent.textContent = `${percentDone}% done`;\n",
              "\n",
              "    } while (position < fileData.byteLength);\n",
              "  }\n",
              "\n",
              "  // All done.\n",
              "  yield {\n",
              "    response: {\n",
              "      action: 'complete',\n",
              "    }\n",
              "  };\n",
              "}\n",
              "\n",
              "scope.google = scope.google || {};\n",
              "scope.google.colab = scope.google.colab || {};\n",
              "scope.google.colab._files = {\n",
              "  _uploadFiles,\n",
              "  _uploadFilesContinue,\n",
              "};\n",
              "})(self);\n",
              "</script> "
            ]
          },
          "metadata": {}
        },
        {
          "output_type": "stream",
          "name": "stdout",
          "text": [
            "Saving Restaurant_Reviews.tsv to Restaurant_Reviews.tsv\n"
          ]
        }
      ],
      "source": [
        "from google.colab import files\n",
        "uploaded = files.upload()"
      ]
    },
    {
      "cell_type": "code",
      "source": [
        "import numpy as np\n",
        "import pandas as pd\n",
        "import re\n",
        "import nltk\n",
        "import seaborn as sns\n",
        "from nltk.corpus import stopwords\n",
        "from sklearn.model_selection import train_test_split\n",
        "from sklearn.metrics import accuracy_score, confusion_matrix\n",
        "from sklearn.feature_extraction.text import CountVectorizer\n",
        "from sklearn.preprocessing import LabelEncoder\n",
        "from keras.models import Sequential\n",
        "from keras.callbacks import EarlyStopping\n",
        "from keras.layers import Dense, Embedding, LSTM, Flatten,Bidirectional\n",
        "from tensorflow.keras.preprocessing.sequence import pad_sequences\n",
        "from tensorflow.keras.preprocessing.text import Tokenizer\n",
        "from sklearn.metrics import confusion_matrix,classification_report\n",
        "import seaborn as sns\n",
        "import matplotlib.pyplot as plt"
      ],
      "metadata": {
        "id": "XBfs25hidjRe"
      },
      "execution_count": 24,
      "outputs": []
    },
    {
      "cell_type": "code",
      "source": [
        "nltk.download('stopwords')"
      ],
      "metadata": {
        "colab": {
          "base_uri": "https://localhost:8080/"
        },
        "id": "YFaO26R5dm92",
        "outputId": "8f1afb77-5031-4f21-cd68-7b8b3d004ad8"
      },
      "execution_count": 3,
      "outputs": [
        {
          "output_type": "stream",
          "name": "stderr",
          "text": [
            "[nltk_data] Downloading package stopwords to /root/nltk_data...\n",
            "[nltk_data]   Unzipping corpora/stopwords.zip.\n"
          ]
        },
        {
          "output_type": "execute_result",
          "data": {
            "text/plain": [
              "True"
            ]
          },
          "metadata": {},
          "execution_count": 3
        }
      ]
    },
    {
      "cell_type": "code",
      "source": [
        "# Load dataset\n",
        "dataset = pd.read_csv('Restaurant_Reviews.tsv', delimiter='\\t', quoting=3)\n"
      ],
      "metadata": {
        "id": "FL2Kk-BadqxF"
      },
      "execution_count": 4,
      "outputs": []
    },
    {
      "cell_type": "code",
      "source": [
        "# Preprocess the text data\n",
        "\n",
        "def pre_processing_text(data):\n",
        "  corpus = []\n",
        "  for i in range(len(data)):\n",
        "      review = re.sub('[^a-zA-Z]', ' ', data[i])\n",
        "      review = review.lower().split()\n",
        "      review = [word for word in review if word not in set(stopwords.words('english'))]\n",
        "      review = ' '.join(review)\n",
        "      corpus.append(review)\n",
        "  return corpus\n",
        "\n",
        "corpus = pre_processing_text(dataset['Review'])\n",
        "# Convert labels to binary\n",
        "label_encoder = LabelEncoder()\n",
        "y = label_encoder.fit_transform(dataset['Liked'])\n",
        "\n",
        "# # Transform text data to numerical vectors\n",
        "# cv = CountVectorizer(max_features=1500)\n",
        "# X = cv.fit_transform(corpus).toarray()"
      ],
      "metadata": {
        "id": "0UnBFCxXdtFi"
      },
      "execution_count": 5,
      "outputs": []
    },
    {
      "cell_type": "code",
      "source": [
        "max_features = 1500\n",
        "max_len = 100\n",
        "tokenizer = Tokenizer(num_words=max_features, split=' ')\n",
        "tokenizer.fit_on_texts(corpus)\n",
        "X = tokenizer.texts_to_sequences(corpus)\n",
        "\n",
        "X = pad_sequences(X,maxlen=max_len)"
      ],
      "metadata": {
        "id": "7G-hr-B6qz51"
      },
      "execution_count": 28,
      "outputs": []
    },
    {
      "cell_type": "code",
      "source": [
        "# saving tokenizer\n",
        "import pickle\n",
        "tokenizer_path = 'tokenizer.pkl'\n",
        "pickle.dump(tokenizer,open(tokenizer_path,'wb'))"
      ],
      "metadata": {
        "id": "WRWGyh_5mjCa"
      },
      "execution_count": 53,
      "outputs": []
    },
    {
      "cell_type": "code",
      "source": [
        "# Split the dataset into training and testing sets\n",
        "X_train, X_test, y_train, y_test = train_test_split(X, y, test_size=0.2, random_state=0)\n",
        "\n",
        "# # Reshape input data for LSTM\n",
        "# X_train_lstm = np.reshape(X_train, (X_train.shape[0], 1, X_train.shape[1]))\n",
        "# X_test_lstm = np.reshape(X_test, (X_test.shape[0], 1, X_test.shape[1]))"
      ],
      "metadata": {
        "id": "CtVjHXO0d5Vj"
      },
      "execution_count": 29,
      "outputs": []
    },
    {
      "cell_type": "code",
      "source": [
        "from keras.layers import Layer\n",
        "import keras.backend as K\n",
        "\n",
        "class Attention(Layer):\n",
        "    def __init__(self, **kwargs):\n",
        "        super(Attention, self).__init__(**kwargs)\n",
        "\n",
        "    def build(self, input_shape):\n",
        "        self.W = self.add_weight(name=\"att_weight\", shape=(input_shape[-1], 1),\n",
        "                                 initializer=\"normal\")\n",
        "        self.b = self.add_weight(name=\"att_bias\", shape=(input_shape[1], 1),\n",
        "                                 initializer=\"zeros\")\n",
        "        super(Attention, self).build(input_shape)\n",
        "\n",
        "    def call(self, x):\n",
        "        e = K.tanh(K.dot(x, self.W) + self.b)\n",
        "        a = K.softmax(e, axis=1)\n",
        "        output = x * a\n",
        "        return K.sum(output, axis=1)\n",
        "\n",
        "    def compute_output_shape(self, input_shape):\n",
        "        return (input_shape[0], input_shape[-1])"
      ],
      "metadata": {
        "id": "BwID7rpaoJkG"
      },
      "execution_count": 30,
      "outputs": []
    },
    {
      "cell_type": "code",
      "source": [
        "# Define LSTM model\n",
        "lstm_model = Sequential()\n",
        "lstm_model.add(Embedding(max_features, 256,input_length = max_len))\n",
        "lstm_model.add(LSTM(units=196, dropout=0.2,return_sequences=True))\n",
        "lstm_model.add(Bidirectional(LSTM(units=128,recurrent_dropout=0.2)))\n",
        "# lstm_model.add(Attention())  # Add the custom attention layer after LSTM\n",
        "lstm_model.add(Dense(64, activation='relu'))\n",
        "lstm_model.add(Dense(1, activation='sigmoid'))\n",
        "lstm_model.compile(optimizer='rmsprop', loss='binary_crossentropy', metrics=['accuracy'])"
      ],
      "metadata": {
        "id": "7iHf2cB6d7Nc"
      },
      "execution_count": 66,
      "outputs": []
    },
    {
      "cell_type": "code",
      "source": [
        "\n",
        "# callback\n",
        "callback = EarlyStopping(monitor='loss',patience=3)\n",
        "# Train LSTM model\n",
        "lstm_model.fit(X_train, y_train, epochs=25, batch_size=32, callbacks = [callback],verbose=1)\n"
      ],
      "metadata": {
        "colab": {
          "base_uri": "https://localhost:8080/"
        },
        "id": "9DxwCnOHd9jM",
        "outputId": "f831116a-1376-4b1a-e808-eff17156ed77"
      },
      "execution_count": 67,
      "outputs": [
        {
          "output_type": "stream",
          "name": "stdout",
          "text": [
            "Epoch 1/25\n",
            "25/25 [==============================] - 31s 939ms/step - loss: 0.6944 - accuracy: 0.4988\n",
            "Epoch 2/25\n",
            "25/25 [==============================] - 22s 901ms/step - loss: 0.6937 - accuracy: 0.5050\n",
            "Epoch 3/25\n",
            "25/25 [==============================] - 23s 881ms/step - loss: 0.6933 - accuracy: 0.5050\n",
            "Epoch 4/25\n",
            "25/25 [==============================] - 23s 915ms/step - loss: 0.6872 - accuracy: 0.5688\n",
            "Epoch 5/25\n",
            "25/25 [==============================] - 24s 983ms/step - loss: 0.6491 - accuracy: 0.6687\n",
            "Epoch 6/25\n",
            "25/25 [==============================] - 22s 886ms/step - loss: 0.4779 - accuracy: 0.8037\n",
            "Epoch 7/25\n",
            "25/25 [==============================] - 23s 915ms/step - loss: 0.2914 - accuracy: 0.8813\n",
            "Epoch 8/25\n",
            "25/25 [==============================] - 23s 928ms/step - loss: 0.2101 - accuracy: 0.9212\n",
            "Epoch 9/25\n",
            "25/25 [==============================] - 23s 928ms/step - loss: 0.1460 - accuracy: 0.9450\n",
            "Epoch 10/25\n",
            "25/25 [==============================] - 23s 931ms/step - loss: 0.1364 - accuracy: 0.9413\n",
            "Epoch 11/25\n",
            "25/25 [==============================] - 22s 881ms/step - loss: 0.0983 - accuracy: 0.9650\n",
            "Epoch 12/25\n",
            "25/25 [==============================] - 23s 910ms/step - loss: 0.0805 - accuracy: 0.9663\n",
            "Epoch 13/25\n",
            "25/25 [==============================] - 23s 920ms/step - loss: 0.0677 - accuracy: 0.9762\n",
            "Epoch 14/25\n",
            "25/25 [==============================] - 22s 874ms/step - loss: 0.0615 - accuracy: 0.9787\n",
            "Epoch 15/25\n",
            "25/25 [==============================] - 24s 918ms/step - loss: 0.0522 - accuracy: 0.9800\n",
            "Epoch 16/25\n",
            "25/25 [==============================] - 24s 946ms/step - loss: 0.0476 - accuracy: 0.9812\n",
            "Epoch 17/25\n",
            "25/25 [==============================] - 23s 941ms/step - loss: 0.0445 - accuracy: 0.9800\n",
            "Epoch 18/25\n",
            "25/25 [==============================] - 22s 882ms/step - loss: 0.0407 - accuracy: 0.9862\n",
            "Epoch 19/25\n",
            "25/25 [==============================] - 23s 900ms/step - loss: 0.0510 - accuracy: 0.9862\n",
            "Epoch 20/25\n",
            "25/25 [==============================] - 24s 948ms/step - loss: 0.0380 - accuracy: 0.9900\n",
            "Epoch 21/25\n",
            "25/25 [==============================] - 23s 942ms/step - loss: 0.0372 - accuracy: 0.9850\n",
            "Epoch 22/25\n",
            "25/25 [==============================] - 23s 904ms/step - loss: 0.0316 - accuracy: 0.9887\n",
            "Epoch 23/25\n",
            "25/25 [==============================] - 22s 880ms/step - loss: 0.0346 - accuracy: 0.9887\n",
            "Epoch 24/25\n",
            "25/25 [==============================] - 24s 946ms/step - loss: 0.0302 - accuracy: 0.9875\n",
            "Epoch 25/25\n",
            "25/25 [==============================] - 23s 939ms/step - loss: 0.0276 - accuracy: 0.9900\n"
          ]
        },
        {
          "output_type": "execute_result",
          "data": {
            "text/plain": [
              "<keras.src.callbacks.History at 0x7e45efb92cb0>"
            ]
          },
          "metadata": {},
          "execution_count": 67
        }
      ]
    },
    {
      "cell_type": "code",
      "source": [
        "\n",
        "# Evaluate LSTM model\n",
        "lstm_loss, lstm_accuracy = lstm_model.evaluate(X_test, y_test)\n",
        "print(\"LSTM Test Accuracy:\", lstm_accuracy)\n"
      ],
      "metadata": {
        "colab": {
          "base_uri": "https://localhost:8080/"
        },
        "id": "PbFcPutZeBB5",
        "outputId": "19dcc983-967a-41f0-d6e9-bbddfaa6b133"
      },
      "execution_count": 68,
      "outputs": [
        {
          "output_type": "stream",
          "name": "stdout",
          "text": [
            "7/7 [==============================] - 2s 174ms/step - loss: 1.4395 - accuracy: 0.7100\n",
            "LSTM Test Accuracy: 0.7099999785423279\n"
          ]
        }
      ]
    },
    {
      "cell_type": "code",
      "source": [
        "# Predict sentiment for a new review using both models\n",
        "input_text = ['Place is good but the food is worst']\n",
        "# input_vector = cv.transform(input_text).toarray()\n",
        "input_vector_test = tokenizer.texts_to_sequences(input_text)\n",
        "\n",
        "input_vector_seq = pad_sequences(input_vector_test,maxlen=max_len)\n",
        "\n",
        "# LSTM model prediction\n",
        "lstm_prediction = lstm_model.predict(input_vector_seq)[0][0]\n",
        "if lstm_prediction >= 0.5:\n",
        "    print('LSTM: Review is Positive')\n",
        "else:\n",
        "    print('LSTM: Review is Negative')"
      ],
      "metadata": {
        "colab": {
          "base_uri": "https://localhost:8080/"
        },
        "id": "jfqBx4Z90Q-7",
        "outputId": "ea943b22-fb62-4dd4-b23f-607283b91c77"
      },
      "execution_count": 69,
      "outputs": [
        {
          "output_type": "stream",
          "name": "stdout",
          "text": [
            "1/1 [==============================] - 1s 1s/step\n",
            "LSTM: Review is Negative\n"
          ]
        }
      ]
    },
    {
      "cell_type": "code",
      "source": [
        "y_pred = np.array([1 if y_p > 0.5 else 0 for y_p in lstm_model.predict(X_test)])"
      ],
      "metadata": {
        "colab": {
          "base_uri": "https://localhost:8080/"
        },
        "id": "fnoWvtjV4aQX",
        "outputId": "5ad0059a-a8c3-4aed-dab7-2387115431d6"
      },
      "execution_count": 70,
      "outputs": [
        {
          "output_type": "stream",
          "name": "stdout",
          "text": [
            "7/7 [==============================] - 1s 166ms/step\n"
          ]
        }
      ]
    },
    {
      "cell_type": "code",
      "source": [
        "cf_matrix = confusion_matrix(y_test,y_pred)\n",
        "group_names = ['True Neg','False Pos','False Neg','True Pos']\n",
        "group_counts = [\"{0:0.0f}\".format(value) for value in\n",
        "                cf_matrix.flatten()]\n",
        "group_percentages = [\"{0:.2%}\".format(value) for value in\n",
        "                     cf_matrix.flatten()/np.sum(cf_matrix)]\n",
        "labels = [f\"{v1}\\n{v2}\\n{v3}\" for v1, v2, v3 in\n",
        "          zip(group_names,group_counts,group_percentages)]\n",
        "labels = np.asarray(labels).reshape(2,2)\n",
        "sns.heatmap(cf_matrix, annot=labels, fmt=\"\", cmap='Blues')\n",
        "plt.show()"
      ],
      "metadata": {
        "colab": {
          "base_uri": "https://localhost:8080/",
          "height": 430
        },
        "id": "PgWBrz-bpq8d",
        "outputId": "eb6027f1-1e54-4fed-f6b9-181cfa16f314"
      },
      "execution_count": 71,
      "outputs": [
        {
          "output_type": "display_data",
          "data": {
            "text/plain": [
              "<Figure size 640x480 with 2 Axes>"
            ],
            "image/png": "[encoded data removed]"
          },
          "metadata": {}
        }
      ]
    },
    {
      "cell_type": "code",
      "source": [
        "print(classification_report(y_test,y_pred))"
      ],
      "metadata": {
        "colab": {
          "base_uri": "https://localhost:8080/"
        },
        "id": "Tfqz2owwp-rK",
        "outputId": "7a74d0e0-af4d-499e-e368-6eb972eb46a7"
      },
      "execution_count": 72,
      "outputs": [
        {
          "output_type": "stream",
          "name": "stdout",
          "text": [
            "              precision    recall  f1-score   support\n",
            "\n",
            "           0       0.67      0.79      0.73        97\n",
            "           1       0.76      0.63      0.69       103\n",
            "\n",
            "    accuracy                           0.71       200\n",
            "   macro avg       0.72      0.71      0.71       200\n",
            "weighted avg       0.72      0.71      0.71       200\n",
            "\n"
          ]
        }
      ]
    },
    {
      "cell_type": "code",
      "source": [
        "models_performance = {}\n",
        "def update_model_performance(dictionary, model_name, parameters, accuracy, other_metrics):\n",
        "    \"\"\"\n",
        "    Update the dictionary with model performance metrics.\n",
        "\n",
        "    Args:\n",
        "    dictionary (dict): The dictionary to update.\n",
        "    model_name (str): The name of the model.\n",
        "    parameters (dict): A dictionary of the model's parameters.\n",
        "    accuracy (float): The accuracy of the model on the test set.\n",
        "    other_metrics (dict): Other relevant metrics (like F1-score, precision, recall).\n",
        "\n",
        "    Returns:\n",
        "    None; updates the dictionary in place.\n",
        "    \"\"\"\n",
        "    if model_name in dictionary:\n",
        "        print(f\"Model {model_name} already exists in the dictionary. Updating the existing entry.\")\n",
        "    else:\n",
        "        print(f\"Adding new model {model_name} to the dictionary.\")\n",
        "\n",
        "    dictionary[model_name] = {\n",
        "        'Parameters': parameters,\n",
        "        'Accuracy': accuracy,\n",
        "        'Other Metrics': other_metrics\n",
        "    }\n"
      ],
      "metadata": {
        "id": "Ne5Iip-aqZuW"
      },
      "execution_count": 13,
      "outputs": []
    },
    {
      "cell_type": "code",
      "source": [
        "# Example usage:\n",
        "update_model_performance(models_performance, 'LSTM without attention and optimizer as rmsprop', {'units': 256, 'dropout': 0.2, 'recurrent_dropout': 0.2},lstm_accuracy, {'F1 Score': 0.71, 'Recall': 0.71, 'Precision': 0.72})"
      ],
      "metadata": {
        "colab": {
          "base_uri": "https://localhost:8080/"
        },
        "id": "Zf-TcnTALBtn",
        "outputId": "2674c681-84c1-4859-bcfb-039b5b4ffd12"
      },
      "execution_count": 73,
      "outputs": [
        {
          "output_type": "stream",
          "name": "stdout",
          "text": [
            "Adding new model LSTM without attention and optimizer as rmsprop to the dictionary.\n"
          ]
        }
      ]
    },
    {
      "cell_type": "code",
      "source": [
        "pd.DataFrame(models_performance).T.reset_index()"
      ],
      "metadata": {
        "colab": {
          "base_uri": "https://localhost:8080/",
          "height": 242
        },
        "id": "YrVpS7p5iItA",
        "outputId": "d26656ca-95e6-464b-845c-143168848e88"
      },
      "execution_count": 74,
      "outputs": [
        {
          "output_type": "execute_result",
          "data": {
            "text/plain": [
              "                                              index  \\\n",
              "0                  LSTM with Single Embedding layer   \n",
              "1                     LSTM with Bidirectional layer   \n",
              "2                            LSTM without attention   \n",
              "3  LSTM without attention and optimizer as adadelta   \n",
              "4   LSTM without attention and optimizer as rmsprop   \n",
              "\n",
              "                                          Parameters Accuracy  \\\n",
              "0  {'units': 256, 'dropout': 0.5, 'recurrent_drop...    0.735   \n",
              "1  {'units': 256, 'dropout': 0.2, 'recurrent_drop...     0.73   \n",
              "2  {'units': 256, 'dropout': 0.2, 'recurrent_drop...     0.71   \n",
              "3  {'units': 256, 'dropout': 0.2, 'recurrent_drop...    0.515   \n",
              "4  {'units': 256, 'dropout': 0.2, 'recurrent_drop...     0.71   \n",
              "\n",
              "                                       Other Metrics  \n",
              "0  {'F1 Score': 0.73, 'Recall': 0.73, 'Precision'...  \n",
              "1  {'F1 Score': 0.73, 'Recall': 0.73, 'Precision'...  \n",
              "2  {'F1 Score': 0.73, 'Recall': 0.73, 'Precision'...  \n",
              "3  {'F1 Score': 0.73, 'Recall': 0.73, 'Precision'...  \n",
              "4  {'F1 Score': 0.71, 'Recall': 0.71, 'Precision'...  "
            ],
            "text/html": [
              "\n",
              "  <div id=\"df-ab1d3518-e8f3-42d7-9ec6-685e5f19499a\" class=\"colab-df-container\">\n",
              "    <div>\n",
              "<style scoped>\n",
              "    .dataframe tbody tr th:only-of-type {\n",
              "        vertical-align: middle;\n",
              "    }\n",
              "\n",
              "    .dataframe tbody tr th {\n",
              "        vertical-align: top;\n",
              "    }\n",
              "\n",
              "    .dataframe thead th {\n",
              "        text-align: right;\n",
              "    }\n",
              "</style>\n",
              "<table border=\"1\" class=\"dataframe\">\n",
              "  <thead>\n",
              "    <tr style=\"text-align: right;\">\n",
              "      <th></th>\n",
              "      <th>index</th>\n",
              "      <th>Parameters</th>\n",
              "      <th>Accuracy</th>\n",
              "      <th>Other Metrics</th>\n",
              "    </tr>\n",
              "  </thead>\n",
              "  <tbody>\n",
              "    <tr>\n",
              "      <th>0</th>\n",
              "      <td>LSTM with Single Embedding layer</td>\n",
              "      <td>{'units': 256, 'dropout': 0.5, 'recurrent_drop...</td>\n",
              "      <td>0.735</td>\n",
              "      <td>{'F1 Score': 0.73, 'Recall': 0.73, 'Precision'...</td>\n",
              "    </tr>\n",
              "    <tr>\n",
              "      <th>1</th>\n",
              "      <td>LSTM with Bidirectional layer</td>\n",
              "      <td>{'units': 256, 'dropout': 0.2, 'recurrent_drop...</td>\n",
              "      <td>0.73</td>\n",
              "      <td>{'F1 Score': 0.73, 'Recall': 0.73, 'Precision'...</td>\n",
              "    </tr>\n",
              "    <tr>\n",
              "      <th>2</th>\n",
              "      <td>LSTM without attention</td>\n",
              "      <td>{'units': 256, 'dropout': 0.2, 'recurrent_drop...</td>\n",
              "      <td>0.71</td>\n",
              "      <td>{'F1 Score': 0.73, 'Recall': 0.73, 'Precision'...</td>\n",
              "    </tr>\n",
              "    <tr>\n",
              "      <th>3</th>\n",
              "      <td>LSTM without attention and optimizer as adadelta</td>\n",
              "      <td>{'units': 256, 'dropout': 0.2, 'recurrent_drop...</td>\n",
              "      <td>0.515</td>\n",
              "      <td>{'F1 Score': 0.73, 'Recall': 0.73, 'Precision'...</td>\n",
              "    </tr>\n",
              "    <tr>\n",
              "      <th>4</th>\n",
              "      <td>LSTM without attention and optimizer as rmsprop</td>\n",
              "      <td>{'units': 256, 'dropout': 0.2, 'recurrent_drop...</td>\n",
              "      <td>0.71</td>\n",
              "      <td>{'F1 Score': 0.71, 'Recall': 0.71, 'Precision'...</td>\n",
              "    </tr>\n",
              "  </tbody>\n",
              "</table>\n",
              "</div>\n",
              "    <div class=\"colab-df-buttons\">\n",
              "\n",
              "  <div class=\"colab-df-container\">\n",
              "    <button class=\"colab-df-convert\" onclick=\"convertToInteractive('df-ab1d3518-e8f3-42d7-9ec6-685e5f19499a')\"\n",
              "            title=\"Convert this dataframe to an interactive table.\"\n",
              "            style=\"display:none;\">\n",
              "\n",
              "  <svg xmlns=\"http://www.w3.org/2000/svg\" height=\"24px\" viewBox=\"0 -960 960 960\">\n",
              "    <path d=\"M120-120v-720h720v720H120Zm60-500h600v-160H180v160Zm220 220h160v-160H400v160Zm0 220h160v-160H400v160ZM180-400h160v-160H180v160Zm440 0h160v-160H620v160ZM180-180h160v-160H180v160Zm440 0h160v-160H620v160Z\"/>\n",
              "  </svg>\n",
              "    </button>\n",
              "\n",
              "  <style>\n",
              "    .colab-df-container {\n",
              "      display:flex;\n",
              "      gap: 12px;\n",
              "    }\n",
              "\n",
              "    .colab-df-convert {\n",
              "      background-color: #E8F0FE;\n",
              "      border: none;\n",
              "      border-radius: 50%;\n",
              "      cursor: pointer;\n",
              "      display: none;\n",
              "      fill: #1967D2;\n",
              "      height: 32px;\n",
              "      padding: 0 0 0 0;\n",
              "      width: 32px;\n",
              "    }\n",
              "\n",
              "    .colab-df-convert:hover {\n",
              "      background-color: #E2EBFA;\n",
              "      box-shadow: 0px 1px 2px rgba(60, 64, 67, 0.3), 0px 1px 3px 1px rgba(60, 64, 67, 0.15);\n",
              "      fill: #174EA6;\n",
              "    }\n",
              "\n",
              "    .colab-df-buttons div {\n",
              "      margin-bottom: 4px;\n",
              "    }\n",
              "\n",
              "    [theme=dark] .colab-df-convert {\n",
              "      background-color: #3B4455;\n",
              "      fill: #D2E3FC;\n",
              "    }\n",
              "\n",
              "    [theme=dark] .colab-df-convert:hover {\n",
              "      background-color: #434B5C;\n",
              "      box-shadow: 0px 1px 3px 1px rgba(0, 0, 0, 0.15);\n",
              "      filter: drop-shadow(0px 1px 2px rgba(0, 0, 0, 0.3));\n",
              "      fill: #FFFFFF;\n",
              "    }\n",
              "  </style>\n",
              "\n",
              "    <script>\n",
              "      const buttonEl =\n",
              "        document.querySelector('#df-ab1d3518-e8f3-42d7-9ec6-685e5f19499a button.colab-df-convert');\n",
              "      buttonEl.style.display =\n",
              "        google.colab.kernel.accessAllowed ? 'block' : 'none';\n",
              "\n",
              "      async function convertToInteractive(key) {\n",
              "        const element = document.querySelector('#df-ab1d3518-e8f3-42d7-9ec6-685e5f19499a');\n",
              "        const dataTable =\n",
              "          await google.colab.kernel.invokeFunction('convertToInteractive',\n",
              "                                                    [key], {});\n",
              "        if (!dataTable) return;\n",
              "\n",
              "        const docLinkHtml = 'Like what you see? Visit the ' +\n",
              "          '<a target=\"_blank\" href=https://colab.research.google.com/notebooks/data_table.ipynb>data table notebook</a>'\n",
              "          + ' to learn more about interactive tables.';\n",
              "        element.innerHTML = '';\n",
              "        dataTable['output_type'] = 'display_data';\n",
              "        await google.colab.output.renderOutput(dataTable, element);\n",
              "        const docLink = document.createElement('div');\n",
              "        docLink.innerHTML = docLinkHtml;\n",
              "        element.appendChild(docLink);\n",
              "      }\n",
              "    </script>\n",
              "  </div>\n",
              "\n",
              "\n",
              "<div id=\"df-65bbb60e-6065-4df1-99b8-783c4911e032\">\n",
              "  <button class=\"colab-df-quickchart\" onclick=\"quickchart('df-65bbb60e-6065-4df1-99b8-783c4911e032')\"\n",
              "            title=\"Suggest charts\"\n",
              "            style=\"display:none;\">\n",
              "\n",
              "<svg xmlns=\"http://www.w3.org/2000/svg\" height=\"24px\"viewBox=\"0 0 24 24\"\n",
              "     width=\"24px\">\n",
              "    <g>\n",
              "        <path d=\"M19 3H5c-1.1 0-2 .9-2 2v14c0 1.1.9 2 2 2h14c1.1 0 2-.9 2-2V5c0-1.1-.9-2-2-2zM9 17H7v-7h2v7zm4 0h-2V7h2v10zm4 0h-2v-4h2v4z\"/>\n",
              "    </g>\n",
              "</svg>\n",
              "  </button>\n",
              "\n",
              "<style>\n",
              "  .colab-df-quickchart {\n",
              "      --bg-color: #E8F0FE;\n",
              "      --fill-color: #1967D2;\n",
              "      --hover-bg-color: #E2EBFA;\n",
              "      --hover-fill-color: #174EA6;\n",
              "      --disabled-fill-color: #AAA;\n",
              "      --disabled-bg-color: #DDD;\n",
              "  }\n",
              "\n",
              "  [theme=dark] .colab-df-quickchart {\n",
              "      --bg-color: #3B4455;\n",
              "      --fill-color: #D2E3FC;\n",
              "      --hover-bg-color: #434B5C;\n",
              "      --hover-fill-color: #FFFFFF;\n",
              "      --disabled-bg-color: #3B4455;\n",
              "      --disabled-fill-color: #666;\n",
              "  }\n",
              "\n",
              "  .colab-df-quickchart {\n",
              "    background-color: var(--bg-color);\n",
              "    border: none;\n",
              "    border-radius: 50%;\n",
              "    cursor: pointer;\n",
              "    display: none;\n",
              "    fill: var(--fill-color);\n",
              "    height: 32px;\n",
              "    padding: 0;\n",
              "    width: 32px;\n",
              "  }\n",
              "\n",
              "  .colab-df-quickchart:hover {\n",
              "    background-color: var(--hover-bg-color);\n",
              "    box-shadow: 0 1px 2px rgba(60, 64, 67, 0.3), 0 1px 3px 1px rgba(60, 64, 67, 0.15);\n",
              "    fill: var(--button-hover-fill-color);\n",
              "  }\n",
              "\n",
              "  .colab-df-quickchart-complete:disabled,\n",
              "  .colab-df-quickchart-complete:disabled:hover {\n",
              "    background-color: var(--disabled-bg-color);\n",
              "    fill: var(--disabled-fill-color);\n",
              "    box-shadow: none;\n",
              "  }\n",
              "\n",
              "  .colab-df-spinner {\n",
              "    border: 2px solid var(--fill-color);\n",
              "    border-color: transparent;\n",
              "    border-bottom-color: var(--fill-color);\n",
              "    animation:\n",
              "      spin 1s steps(1) infinite;\n",
              "  }\n",
              "\n",
              "  @keyframes spin {\n",
              "    0% {\n",
              "      border-color: transparent;\n",
              "      border-bottom-color: var(--fill-color);\n",
              "      border-left-color: var(--fill-color);\n",
              "    }\n",
              "    20% {\n",
              "      border-color: transparent;\n",
              "      border-left-color: var(--fill-color);\n",
              "      border-top-color: var(--fill-color);\n",
              "    }\n",
              "    30% {\n",
              "      border-color: transparent;\n",
              "      border-left-color: var(--fill-color);\n",
              "      border-top-color: var(--fill-color);\n",
              "      border-right-color: var(--fill-color);\n",
              "    }\n",
              "    40% {\n",
              "      border-color: transparent;\n",
              "      border-right-color: var(--fill-color);\n",
              "      border-top-color: var(--fill-color);\n",
              "    }\n",
              "    60% {\n",
              "      border-color: transparent;\n",
              "      border-right-color: var(--fill-color);\n",
              "    }\n",
              "    80% {\n",
              "      border-color: transparent;\n",
              "      border-right-color: var(--fill-color);\n",
              "      border-bottom-color: var(--fill-color);\n",
              "    }\n",
              "    90% {\n",
              "      border-color: transparent;\n",
              "      border-bottom-color: var(--fill-color);\n",
              "    }\n",
              "  }\n",
              "</style>\n",
              "\n",
              "  <script>\n",
              "    async function quickchart(key) {\n",
              "      const quickchartButtonEl =\n",
              "        document.querySelector('#' + key + ' button');\n",
              "      quickchartButtonEl.disabled = true;  // To prevent multiple clicks.\n",
              "      quickchartButtonEl.classList.add('colab-df-spinner');\n",
              "      try {\n",
              "        const charts = await google.colab.kernel.invokeFunction(\n",
              "            'suggestCharts', [key], {});\n",
              "      } catch (error) {\n",
              "        console.error('Error during call to suggestCharts:', error);\n",
              "      }\n",
              "      quickchartButtonEl.classList.remove('colab-df-spinner');\n",
              "      quickchartButtonEl.classList.add('colab-df-quickchart-complete');\n",
              "    }\n",
              "    (() => {\n",
              "      let quickchartButtonEl =\n",
              "        document.querySelector('#df-65bbb60e-6065-4df1-99b8-783c4911e032 button');\n",
              "      quickchartButtonEl.style.display =\n",
              "        google.colab.kernel.accessAllowed ? 'block' : 'none';\n",
              "    })();\n",
              "  </script>\n",
              "</div>\n",
              "\n",
              "    </div>\n",
              "  </div>\n"
            ],
            "application/vnd.google.colaboratory.intrinsic+json": {
              "type": "dataframe",
              "summary": "{\n  \"name\": \"pd\",\n  \"rows\": 5,\n  \"fields\": [\n    {\n      \"column\": \"index\",\n      \"properties\": {\n        \"dtype\": \"string\",\n        \"num_unique_values\": 5,\n        \"samples\": [\n          \"LSTM with Bidirectional layer\",\n          \"LSTM without attention and optimizer as rmsprop\",\n          \"LSTM without attention\"\n        ],\n        \"semantic_type\": \"\",\n        \"description\": \"\"\n      }\n    },\n    {\n      \"column\": \"Parameters\",\n      \"properties\": {\n        \"dtype\": \"object\",\n        \"semantic_type\": \"\",\n        \"description\": \"\"\n      }\n    },\n    {\n      \"column\": \"Accuracy\",\n      \"properties\": {\n        \"dtype\": \"date\",\n        \"min\": 0.5149999856948853,\n        \"max\": 0.735,\n        \"num_unique_values\": 4,\n        \"samples\": [\n          0.7300000190734863,\n          0.5149999856948853,\n          0.735\n        ],\n        \"semantic_type\": \"\",\n        \"description\": \"\"\n      }\n    },\n    {\n      \"column\": \"Other Metrics\",\n      \"properties\": {\n        \"dtype\": \"object\",\n        \"semantic_type\": \"\",\n        \"description\": \"\"\n      }\n    }\n  ]\n}"
            }
          },
          "metadata": {},
          "execution_count": 74
        }
      ]
    },
    {
      "cell_type": "code",
      "source": [
        "lstm_model.save(\"model_lstm_73.h5\")"
      ],
      "metadata": {
        "colab": {
          "base_uri": "https://localhost:8080/"
        },
        "id": "mbZK3ZZDiKNM",
        "outputId": "dbe2d99f-b155-4c6d-a598-fb2244e19fc4"
      },
      "execution_count": 52,
      "outputs": [
        {
          "output_type": "stream",
          "name": "stderr",
          "text": [
            "/usr/local/lib/python3.10/dist-packages/keras/src/engine/training.py:3103: UserWarning: You are saving your model as an HDF5 file via `model.save()`. This file format is considered legacy. We recommend using instead the native Keras format, e.g. `model.save('my_model.keras')`.\n",
            "  saving_api.save_model(\n"
          ]
        }
      ]
    },
    {
      "cell_type": "markdown",
      "source": [
        "|level\\_0|index|Parameters|Accuracy|Other Metrics|\n",
        "|---|---|---|---|---|\n",
        "|0|LSTM with Single Embedding layer|\\{'units': 256, 'dropout': 0\\.5, 'recurrent\\_dropout': 0\\.2\\}|0\\.735|\\{'F1 Score': 0\\.73, 'Recall': 0\\.73, 'Precision': 0\\.73\\}|\n",
        "|1|LSTM with Bidirectional layer|\\{'units': 256, 'dropout': 0\\.2, 'recurrent\\_dropout': 0\\.2\\}|0\\.7300000190734863|\\{'F1 Score': 0\\.73, 'Recall': 0\\.73, 'Precision': 0\\.73\\}|\n",
        "|2|LSTM without attention|\\{'units': 256, 'dropout': 0\\.2, 'recurrent\\_dropout': 0\\.2\\}|0\\.7099999785423279|\\{'F1 Score': 0\\.73, 'Recall': 0\\.73, 'Precision': 0\\.73\\}|\n",
        "|3|LSTM without attention and optimizer as adadelta|\\{'units': 256, 'dropout': 0\\.2, 'recurrent\\_dropout': 0\\.2\\}|0\\.5149999856948853|\\{'F1 Score': 0\\.73, 'Recall': 0\\.73, 'Precision': 0\\.73\\}|\n",
        "|4|LSTM without attention and optimizer as rmsprop|\\{'units': 256, 'dropout': 0\\.2, 'recurrent\\_dropout': 0\\.2\\}|0\\.7099999785423279|\\{'F1 Score': 0\\.71, 'Recall': 0\\.71, 'Precision': 0\\.72\\}|"
      ],
      "metadata": {
        "id": "5j89RNVzuelG"
      }
    },
    {
      "cell_type": "code",
      "source": [],
      "metadata": {
        "id": "hi6B81s2kSSe"
      },
      "execution_count": null,
      "outputs": []
    }
  ],
  "metadata": {
    "colab": {
      "provenance": [],
      "gpuType": "T4",
      "include_colab_link": true
    },
    "kernelspec": {
      "display_name": "Python 3",
      "name": "python3"
    },
    "language_info": {
      "name": "python"
    },
    "accelerator": "GPU"
  },
  "nbformat": 4,
  "nbformat_minor": 0
}