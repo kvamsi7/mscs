{
 "cells": [
  {
   "cell_type": "code",
   "execution_count": 1,
   "metadata": {
    "execution": {
     "iopub.execute_input": "2024-01-16T16:21:05.868986Z",
     "iopub.status.busy": "2024-01-16T16:21:05.868324Z",
     "iopub.status.idle": "2024-01-16T16:21:08.014098Z",
     "shell.execute_reply": "2024-01-16T16:21:08.013126Z",
     "shell.execute_reply.started": "2024-01-16T16:21:05.868954Z"
    }
   },
   "outputs": [],
   "source": [
    "import pandas as pd\n",
    "from sklearn.feature_extraction.text import TfidfVectorizer, CountVectorizer\n",
    "from sklearn.model_selection import train_test_split\n",
    "from sklearn.linear_model import LogisticRegression\n",
    "from sklearn.metrics import accuracy_score\n",
    "\n",
    "data = pd.read_csv('/kaggle/input/restaurant-reviews/Restaurant reviews.csv')"
   ]
  },
  {
   "cell_type": "markdown",
   "metadata": {},
   "source": [
    "# Drops all rows after row 7500."
   ]
  },
  {
   "cell_type": "code",
   "execution_count": 2,
   "metadata": {
    "execution": {
     "iopub.execute_input": "2024-01-16T16:21:08.017155Z",
     "iopub.status.busy": "2024-01-16T16:21:08.016321Z",
     "iopub.status.idle": "2024-01-16T16:21:08.030943Z",
     "shell.execute_reply": "2024-01-16T16:21:08.029599Z",
     "shell.execute_reply.started": "2024-01-16T16:21:08.017110Z"
    }
   },
   "outputs": [],
   "source": [
    "data = data.drop(data.index[7500:])"
   ]
  },
  {
   "cell_type": "code",
   "execution_count": 3,
   "metadata": {
    "execution": {
     "iopub.execute_input": "2024-01-16T16:21:08.032917Z",
     "iopub.status.busy": "2024-01-16T16:21:08.032609Z",
     "iopub.status.idle": "2024-01-16T16:21:08.061069Z",
     "shell.execute_reply": "2024-01-16T16:21:08.059990Z",
     "shell.execute_reply.started": "2024-01-16T16:21:08.032892Z"
    }
   },
   "outputs": [
    {
     "data": {
      "text/html": [
       "<div>\n",
       "<style scoped>\n",
       "    .dataframe tbody tr th:only-of-type {\n",
       "        vertical-align: middle;\n",
       "    }\n",
       "\n",
       "    .dataframe tbody tr th {\n",
       "        vertical-align: top;\n",
       "    }\n",
       "\n",
       "    .dataframe thead th {\n",
       "        text-align: right;\n",
       "    }\n",
       "</style>\n",
       "<table border=\"1\" class=\"dataframe\">\n",
       "  <thead>\n",
       "    <tr style=\"text-align: right;\">\n",
       "      <th></th>\n",
       "      <th>Restaurant</th>\n",
       "      <th>Reviewer</th>\n",
       "      <th>Review</th>\n",
       "      <th>Rating</th>\n",
       "      <th>Metadata</th>\n",
       "      <th>Time</th>\n",
       "      <th>Pictures</th>\n",
       "      <th>7514</th>\n",
       "    </tr>\n",
       "  </thead>\n",
       "  <tbody>\n",
       "    <tr>\n",
       "      <th>7495</th>\n",
       "      <td>Faasos</td>\n",
       "      <td>Foodholic</td>\n",
       "      <td>Service 4/5\\nVFM 4/5\\nFood 4/5\\n\\nI was a grea...</td>\n",
       "      <td>4</td>\n",
       "      <td>78 Reviews , 214 Followers</td>\n",
       "      <td>7/5/2018 13:51</td>\n",
       "      <td>1</td>\n",
       "      <td>NaN</td>\n",
       "    </tr>\n",
       "    <tr>\n",
       "      <th>7496</th>\n",
       "      <td>Faasos</td>\n",
       "      <td>Clem</td>\n",
       "      <td>I wish Faasos would reconsider their prices. 1...</td>\n",
       "      <td>2</td>\n",
       "      <td>27 Reviews , 3 Followers</td>\n",
       "      <td>7/4/2018 11:55</td>\n",
       "      <td>0</td>\n",
       "      <td>NaN</td>\n",
       "    </tr>\n",
       "    <tr>\n",
       "      <th>7497</th>\n",
       "      <td>Faasos</td>\n",
       "      <td>Santhi Kumar</td>\n",
       "      <td>polite</td>\n",
       "      <td>4</td>\n",
       "      <td>2 Reviews</td>\n",
       "      <td>7/3/2018 23:14</td>\n",
       "      <td>0</td>\n",
       "      <td>NaN</td>\n",
       "    </tr>\n",
       "    <tr>\n",
       "      <th>7498</th>\n",
       "      <td>Faasos</td>\n",
       "      <td>Sourav Chakraborty</td>\n",
       "      <td>everything was nice.. :)</td>\n",
       "      <td>5</td>\n",
       "      <td>1 Review , 25 Followers</td>\n",
       "      <td>7/3/2018 1:39</td>\n",
       "      <td>0</td>\n",
       "      <td>NaN</td>\n",
       "    </tr>\n",
       "    <tr>\n",
       "      <th>7499</th>\n",
       "      <td>Faasos</td>\n",
       "      <td>Rakesh Manchikatla</td>\n",
       "      <td>worst</td>\n",
       "      <td>1</td>\n",
       "      <td>1 Review</td>\n",
       "      <td>7/2/2018 23:42</td>\n",
       "      <td>0</td>\n",
       "      <td>NaN</td>\n",
       "    </tr>\n",
       "  </tbody>\n",
       "</table>\n",
       "</div>"
      ],
      "text/plain": [
       "     Restaurant            Reviewer  \\\n",
       "7495     Faasos           Foodholic   \n",
       "7496     Faasos                Clem   \n",
       "7497     Faasos        Santhi Kumar   \n",
       "7498     Faasos  Sourav Chakraborty   \n",
       "7499     Faasos  Rakesh Manchikatla   \n",
       "\n",
       "                                                 Review Rating  \\\n",
       "7495  Service 4/5\\nVFM 4/5\\nFood 4/5\\n\\nI was a grea...      4   \n",
       "7496  I wish Faasos would reconsider their prices. 1...      2   \n",
       "7497                                             polite      4   \n",
       "7498                           everything was nice.. :)      5   \n",
       "7499                                              worst      1   \n",
       "\n",
       "                        Metadata            Time  Pictures  7514  \n",
       "7495  78 Reviews , 214 Followers  7/5/2018 13:51         1   NaN  \n",
       "7496    27 Reviews , 3 Followers  7/4/2018 11:55         0   NaN  \n",
       "7497                   2 Reviews  7/3/2018 23:14         0   NaN  \n",
       "7498     1 Review , 25 Followers   7/3/2018 1:39         0   NaN  \n",
       "7499                    1 Review  7/2/2018 23:42         0   NaN  "
      ]
     },
     "execution_count": 3,
     "metadata": {},
     "output_type": "execute_result"
    }
   ],
   "source": [
    "data.tail()"
   ]
  },
  {
   "cell_type": "markdown",
   "metadata": {},
   "source": [
    "# Discards all rows in 'Review' and 'Rating' columns with missing values."
   ]
  },
  {
   "cell_type": "code",
   "execution_count": 4,
   "metadata": {
    "execution": {
     "iopub.execute_input": "2024-01-16T16:21:08.064643Z",
     "iopub.status.busy": "2024-01-16T16:21:08.063714Z",
     "iopub.status.idle": "2024-01-16T16:21:08.078528Z",
     "shell.execute_reply": "2024-01-16T16:21:08.077610Z",
     "shell.execute_reply.started": "2024-01-16T16:21:08.064600Z"
    }
   },
   "outputs": [],
   "source": [
    "data = data.dropna(subset=['Review', 'Rating'])"
   ]
  },
  {
   "cell_type": "markdown",
   "metadata": {},
   "source": [
    "# Prints all unique values in 'Rating'."
   ]
  },
  {
   "cell_type": "code",
   "execution_count": 5,
   "metadata": {
    "execution": {
     "iopub.execute_input": "2024-01-16T16:21:08.080595Z",
     "iopub.status.busy": "2024-01-16T16:21:08.079905Z",
     "iopub.status.idle": "2024-01-16T16:21:08.093364Z",
     "shell.execute_reply": "2024-01-16T16:21:08.092102Z",
     "shell.execute_reply.started": "2024-01-16T16:21:08.080553Z"
    }
   },
   "outputs": [
    {
     "name": "stdout",
     "output_type": "stream",
     "text": [
      "['5' '4' '1' '3' '2' '3.5' '4.5' '2.5' '1.5']\n"
     ]
    }
   ],
   "source": [
    "print(data['Rating'].unique())"
   ]
  },
  {
   "cell_type": "markdown",
   "metadata": {},
   "source": [
    "# Shows what datatype 'Rating' currently is."
   ]
  },
  {
   "cell_type": "code",
   "execution_count": 6,
   "metadata": {
    "execution": {
     "iopub.execute_input": "2024-01-16T16:21:08.096005Z",
     "iopub.status.busy": "2024-01-16T16:21:08.095140Z",
     "iopub.status.idle": "2024-01-16T16:21:08.114585Z",
     "shell.execute_reply": "2024-01-16T16:21:08.113268Z",
     "shell.execute_reply.started": "2024-01-16T16:21:08.095906Z"
    }
   },
   "outputs": [
    {
     "name": "stdout",
     "output_type": "stream",
     "text": [
      "<class 'pandas.core.series.Series'>\n",
      "Index: 7496 entries, 0 to 7499\n",
      "Series name: Rating\n",
      "Non-Null Count  Dtype \n",
      "--------------  ----- \n",
      "7496 non-null   object\n",
      "dtypes: object(1)\n",
      "memory usage: 117.1+ KB\n"
     ]
    }
   ],
   "source": [
    "data['Rating'].info()"
   ]
  },
  {
   "cell_type": "markdown",
   "metadata": {},
   "source": [
    "# Converts the data from object to float, then integer."
   ]
  },
  {
   "cell_type": "code",
   "execution_count": 7,
   "metadata": {
    "execution": {
     "iopub.execute_input": "2024-01-16T16:21:08.117149Z",
     "iopub.status.busy": "2024-01-16T16:21:08.116267Z",
     "iopub.status.idle": "2024-01-16T16:21:08.131014Z",
     "shell.execute_reply": "2024-01-16T16:21:08.130134Z",
     "shell.execute_reply.started": "2024-01-16T16:21:08.117106Z"
    }
   },
   "outputs": [],
   "source": [
    "data['Rating'] = data['Rating'].astype(float)"
   ]
  },
  {
   "cell_type": "code",
   "execution_count": 8,
   "metadata": {
    "execution": {
     "iopub.execute_input": "2024-01-16T16:21:08.132989Z",
     "iopub.status.busy": "2024-01-16T16:21:08.132279Z",
     "iopub.status.idle": "2024-01-16T16:21:08.146145Z",
     "shell.execute_reply": "2024-01-16T16:21:08.144866Z",
     "shell.execute_reply.started": "2024-01-16T16:21:08.132950Z"
    }
   },
   "outputs": [],
   "source": [
    "data['Rating'] = data['Rating'].astype(int)"
   ]
  },
  {
   "cell_type": "code",
   "execution_count": 9,
   "metadata": {
    "execution": {
     "iopub.execute_input": "2024-01-16T16:21:08.148825Z",
     "iopub.status.busy": "2024-01-16T16:21:08.147649Z",
     "iopub.status.idle": "2024-01-16T16:21:08.167068Z",
     "shell.execute_reply": "2024-01-16T16:21:08.165978Z",
     "shell.execute_reply.started": "2024-01-16T16:21:08.148788Z"
    }
   },
   "outputs": [
    {
     "name": "stdout",
     "output_type": "stream",
     "text": [
      "<class 'pandas.core.series.Series'>\n",
      "Index: 7496 entries, 0 to 7499\n",
      "Series name: Rating\n",
      "Non-Null Count  Dtype\n",
      "--------------  -----\n",
      "7496 non-null   int64\n",
      "dtypes: int64(1)\n",
      "memory usage: 117.1 KB\n"
     ]
    }
   ],
   "source": [
    "data['Rating'].info()"
   ]
  },
  {
   "cell_type": "code",
   "execution_count": 10,
   "metadata": {
    "execution": {
     "iopub.execute_input": "2024-01-16T16:21:08.172618Z",
     "iopub.status.busy": "2024-01-16T16:21:08.171853Z",
     "iopub.status.idle": "2024-01-16T16:21:08.181935Z",
     "shell.execute_reply": "2024-01-16T16:21:08.180746Z",
     "shell.execute_reply.started": "2024-01-16T16:21:08.172574Z"
    }
   },
   "outputs": [
    {
     "name": "stdout",
     "output_type": "stream",
     "text": [
      "[5 4 1 3 2]\n"
     ]
    }
   ],
   "source": [
    "print(data['Rating'].unique())"
   ]
  },
  {
   "cell_type": "markdown",
   "metadata": {},
   "source": [
    "# Assigns the columns \"Review\" and \"Rating\" to x and y variables."
   ]
  },
  {
   "cell_type": "code",
   "execution_count": 11,
   "metadata": {
    "execution": {
     "iopub.execute_input": "2024-01-16T16:21:08.184598Z",
     "iopub.status.busy": "2024-01-16T16:21:08.183783Z",
     "iopub.status.idle": "2024-01-16T16:21:08.192778Z",
     "shell.execute_reply": "2024-01-16T16:21:08.192028Z",
     "shell.execute_reply.started": "2024-01-16T16:21:08.184557Z"
    }
   },
   "outputs": [],
   "source": [
    "x = data[\"Review\"]\n",
    "y = data[\"Rating\"]"
   ]
  },
  {
   "cell_type": "code",
   "execution_count": 12,
   "metadata": {
    "execution": {
     "iopub.execute_input": "2024-01-16T16:21:08.195002Z",
     "iopub.status.busy": "2024-01-16T16:21:08.193988Z",
     "iopub.status.idle": "2024-01-16T16:21:08.212323Z",
     "shell.execute_reply": "2024-01-16T16:21:08.211529Z",
     "shell.execute_reply.started": "2024-01-16T16:21:08.194960Z"
    }
   },
   "outputs": [
    {
     "name": "stdout",
     "output_type": "stream",
     "text": [
      "0       The ambience was good, food was quite good . h...\n",
      "1       Ambience is too good for a pleasant evening. S...\n",
      "2       A must try.. great food great ambience. Thnx f...\n",
      "3       Soumen das and Arun was a great guy. Only beca...\n",
      "4       Food is good.we ordered Kodi drumsticks and ba...\n",
      "                              ...                        \n",
      "7495    Service 4/5\\nVFM 4/5\\nFood 4/5\\n\\nI was a grea...\n",
      "7496    I wish Faasos would reconsider their prices. 1...\n",
      "7497                                               polite\n",
      "7498                             everything was nice.. :)\n",
      "7499                                                worst\n",
      "Name: Review, Length: 7496, dtype: object\n"
     ]
    }
   ],
   "source": [
    "print(x)"
   ]
  },
  {
   "cell_type": "code",
   "execution_count": 13,
   "metadata": {
    "execution": {
     "iopub.execute_input": "2024-01-16T16:21:08.214598Z",
     "iopub.status.busy": "2024-01-16T16:21:08.213505Z",
     "iopub.status.idle": "2024-01-16T16:21:08.226199Z",
     "shell.execute_reply": "2024-01-16T16:21:08.225107Z",
     "shell.execute_reply.started": "2024-01-16T16:21:08.214557Z"
    }
   },
   "outputs": [
    {
     "name": "stdout",
     "output_type": "stream",
     "text": [
      "0       5\n",
      "1       5\n",
      "2       5\n",
      "3       5\n",
      "4       5\n",
      "       ..\n",
      "7495    4\n",
      "7496    2\n",
      "7497    4\n",
      "7498    5\n",
      "7499    1\n",
      "Name: Rating, Length: 7496, dtype: int64\n"
     ]
    }
   ],
   "source": [
    "print(y)"
   ]
  },
  {
   "cell_type": "markdown",
   "metadata": {},
   "source": [
    "# Turn our numerical data to categories."
   ]
  },
  {
   "cell_type": "code",
   "execution_count": 14,
   "metadata": {
    "execution": {
     "iopub.execute_input": "2024-01-16T16:21:08.229415Z",
     "iopub.status.busy": "2024-01-16T16:21:08.227508Z",
     "iopub.status.idle": "2024-01-16T16:21:08.240251Z",
     "shell.execute_reply": "2024-01-16T16:21:08.239249Z",
     "shell.execute_reply.started": "2024-01-16T16:21:08.229374Z"
    }
   },
   "outputs": [],
   "source": [
    "category = []\n",
    "for rating in y:\n",
    "    if rating == 1:\n",
    "        category.append('very bad')\n",
    "    elif rating == 2:\n",
    "        category.append('bad')\n",
    "    elif rating == 3:\n",
    "        category.append('neutral')\n",
    "    elif rating == 4:\n",
    "        category.append('good')\n",
    "    else:\n",
    "        category.append('excellent')"
   ]
  },
  {
   "cell_type": "markdown",
   "metadata": {},
   "source": [
    "# Splits the data into training and testing sets."
   ]
  },
  {
   "cell_type": "code",
   "execution_count": 16,
   "metadata": {
    "execution": {
     "iopub.execute_input": "2024-01-16T16:21:08.272280Z",
     "iopub.status.busy": "2024-01-16T16:21:08.271591Z",
     "iopub.status.idle": "2024-01-16T16:21:08.286352Z",
     "shell.execute_reply": "2024-01-16T16:21:08.285596Z",
     "shell.execute_reply.started": "2024-01-16T16:21:08.272241Z"
    }
   },
   "outputs": [],
   "source": [
    "X_train, X_test, Y_train, Y_test = train_test_split(x, category, test_size=0.2, random_state=42)"
   ]
  },
  {
   "cell_type": "markdown",
   "metadata": {},
   "source": [
    "# Feature extraction to make the data compatible with our learning algorithm."
   ]
  },
  {
   "cell_type": "code",
   "execution_count": 27,
   "metadata": {
    "execution": {
     "iopub.execute_input": "2024-01-16T16:23:27.494933Z",
     "iopub.status.busy": "2024-01-16T16:23:27.494529Z",
     "iopub.status.idle": "2024-01-16T16:23:27.943668Z",
     "shell.execute_reply": "2024-01-16T16:23:27.942428Z",
     "shell.execute_reply.started": "2024-01-16T16:23:27.494899Z"
    }
   },
   "outputs": [],
   "source": [
    "vector = CountVectorizer(min_df = 1, lowercase = True)\n",
    "\n",
    "X_train_vectorize = vector.fit_transform(X_train)\n",
    "X_test_vectorize = vector.transform(X_test)\n",
    "Y_train_vectorize = vector.fit_transform(Y_train)\n",
    "Y_test_vectorize = vector.fit_transform(Y_test)"
   ]
  },
  {
   "cell_type": "markdown",
   "metadata": {},
   "source": [
    "# Logistic Regression is used due to the dataset's large size, as well as finding a correlation between the two features."
   ]
  },
  {
   "cell_type": "code",
   "execution_count": 28,
   "metadata": {
    "execution": {
     "iopub.execute_input": "2024-01-16T16:23:30.158417Z",
     "iopub.status.busy": "2024-01-16T16:23:30.158024Z",
     "iopub.status.idle": "2024-01-16T16:23:42.017111Z",
     "shell.execute_reply": "2024-01-16T16:23:42.016018Z",
     "shell.execute_reply.started": "2024-01-16T16:23:30.158387Z"
    }
   },
   "outputs": [
    {
     "data": {
      "text/html": [
       "<style>#sk-container-id-3 {color: black;background-color: white;}#sk-container-id-3 pre{padding: 0;}#sk-container-id-3 div.sk-toggleable {background-color: white;}#sk-container-id-3 label.sk-toggleable__label {cursor: pointer;display: block;width: 100%;margin-bottom: 0;padding: 0.3em;box-sizing: border-box;text-align: center;}#sk-container-id-3 label.sk-toggleable__label-arrow:before {content: \"▸\";float: left;margin-right: 0.25em;color: #696969;}#sk-container-id-3 label.sk-toggleable__label-arrow:hover:before {color: black;}#sk-container-id-3 div.sk-estimator:hover label.sk-toggleable__label-arrow:before {color: black;}#sk-container-id-3 div.sk-toggleable__content {max-height: 0;max-width: 0;overflow: hidden;text-align: left;background-color: #f0f8ff;}#sk-container-id-3 div.sk-toggleable__content pre {margin: 0.2em;color: black;border-radius: 0.25em;background-color: #f0f8ff;}#sk-container-id-3 input.sk-toggleable__control:checked~div.sk-toggleable__content {max-height: 200px;max-width: 100%;overflow: auto;}#sk-container-id-3 input.sk-toggleable__control:checked~label.sk-toggleable__label-arrow:before {content: \"▾\";}#sk-container-id-3 div.sk-estimator input.sk-toggleable__control:checked~label.sk-toggleable__label {background-color: #d4ebff;}#sk-container-id-3 div.sk-label input.sk-toggleable__control:checked~label.sk-toggleable__label {background-color: #d4ebff;}#sk-container-id-3 input.sk-hidden--visually {border: 0;clip: rect(1px 1px 1px 1px);clip: rect(1px, 1px, 1px, 1px);height: 1px;margin: -1px;overflow: hidden;padding: 0;position: absolute;width: 1px;}#sk-container-id-3 div.sk-estimator {font-family: monospace;background-color: #f0f8ff;border: 1px dotted black;border-radius: 0.25em;box-sizing: border-box;margin-bottom: 0.5em;}#sk-container-id-3 div.sk-estimator:hover {background-color: #d4ebff;}#sk-container-id-3 div.sk-parallel-item::after {content: \"\";width: 100%;border-bottom: 1px solid gray;flex-grow: 1;}#sk-container-id-3 div.sk-label:hover label.sk-toggleable__label {background-color: #d4ebff;}#sk-container-id-3 div.sk-serial::before {content: \"\";position: absolute;border-left: 1px solid gray;box-sizing: border-box;top: 0;bottom: 0;left: 50%;z-index: 0;}#sk-container-id-3 div.sk-serial {display: flex;flex-direction: column;align-items: center;background-color: white;padding-right: 0.2em;padding-left: 0.2em;position: relative;}#sk-container-id-3 div.sk-item {position: relative;z-index: 1;}#sk-container-id-3 div.sk-parallel {display: flex;align-items: stretch;justify-content: center;background-color: white;position: relative;}#sk-container-id-3 div.sk-item::before, #sk-container-id-3 div.sk-parallel-item::before {content: \"\";position: absolute;border-left: 1px solid gray;box-sizing: border-box;top: 0;bottom: 0;left: 50%;z-index: -1;}#sk-container-id-3 div.sk-parallel-item {display: flex;flex-direction: column;z-index: 1;position: relative;background-color: white;}#sk-container-id-3 div.sk-parallel-item:first-child::after {align-self: flex-end;width: 50%;}#sk-container-id-3 div.sk-parallel-item:last-child::after {align-self: flex-start;width: 50%;}#sk-container-id-3 div.sk-parallel-item:only-child::after {width: 0;}#sk-container-id-3 div.sk-dashed-wrapped {border: 1px dashed gray;margin: 0 0.4em 0.5em 0.4em;box-sizing: border-box;padding-bottom: 0.4em;background-color: white;}#sk-container-id-3 div.sk-label label {font-family: monospace;font-weight: bold;display: inline-block;line-height: 1.2em;}#sk-container-id-3 div.sk-label-container {text-align: center;}#sk-container-id-3 div.sk-container {/* jupyter's `normalize.less` sets `[hidden] { display: none; }` but bootstrap.min.css set `[hidden] { display: none !important; }` so we also need the `!important` here to be able to override the default hidden behavior on the sphinx rendered scikit-learn.org. See: https://github.com/scikit-learn/scikit-learn/issues/21755 */display: inline-block !important;position: relative;}#sk-container-id-3 div.sk-text-repr-fallback {display: none;}</style><div id=\"sk-container-id-3\" class=\"sk-top-container\"><div class=\"sk-text-repr-fallback\"><pre>LogisticRegression(max_iter=1000)</pre><b>In a Jupyter environment, please rerun this cell to show the HTML representation or trust the notebook. <br />On GitHub, the HTML representation is unable to render, please try loading this page with nbviewer.org.</b></div><div class=\"sk-container\" hidden><div class=\"sk-item\"><div class=\"sk-estimator sk-toggleable\"><input class=\"sk-toggleable__control sk-hidden--visually\" id=\"sk-estimator-id-3\" type=\"checkbox\" checked><label for=\"sk-estimator-id-3\" class=\"sk-toggleable__label sk-toggleable__label-arrow\">LogisticRegression</label><div class=\"sk-toggleable__content\"><pre>LogisticRegression(max_iter=1000)</pre></div></div></div></div></div>"
      ],
      "text/plain": [
       "LogisticRegression(max_iter=1000)"
      ]
     },
     "execution_count": 28,
     "metadata": {},
     "output_type": "execute_result"
    }
   ],
   "source": [
    "model = LogisticRegression(max_iter=1000)\n",
    "\n",
    "model.fit(X_train_vectorize, Y_train)"
   ]
  },
  {
   "cell_type": "markdown",
   "metadata": {},
   "source": [
    "# View the accuracy of our training and testing data."
   ]
  },
  {
   "cell_type": "code",
   "execution_count": 29,
   "metadata": {
    "execution": {
     "iopub.execute_input": "2024-01-16T16:23:43.467597Z",
     "iopub.status.busy": "2024-01-16T16:23:43.467114Z",
     "iopub.status.idle": "2024-01-16T16:23:43.483186Z",
     "shell.execute_reply": "2024-01-16T16:23:43.482124Z",
     "shell.execute_reply.started": "2024-01-16T16:23:43.467557Z"
    }
   },
   "outputs": [
    {
     "name": "stdout",
     "output_type": "stream",
     "text": [
      "0.9523015343562375\n"
     ]
    }
   ],
   "source": [
    "train_predict = model.predict(X_train_vectorize)\n",
    "\n",
    "train_accuracy = accuracy_score(Y_train, train_predict)\n",
    "\n",
    "print(train_accuracy)"
   ]
  },
  {
   "cell_type": "code",
   "execution_count": 30,
   "metadata": {
    "execution": {
     "iopub.execute_input": "2024-01-16T16:23:44.865065Z",
     "iopub.status.busy": "2024-01-16T16:23:44.864662Z",
     "iopub.status.idle": "2024-01-16T16:23:44.875063Z",
     "shell.execute_reply": "2024-01-16T16:23:44.873605Z",
     "shell.execute_reply.started": "2024-01-16T16:23:44.865017Z"
    }
   },
   "outputs": [
    {
     "name": "stdout",
     "output_type": "stream",
     "text": [
      "0.626\n"
     ]
    }
   ],
   "source": [
    "test_predict = model.predict(X_test_vectorize)\n",
    "\n",
    "test_accuracy = accuracy_score(Y_test, test_predict)\n",
    "\n",
    "print(test_accuracy)"
   ]
  },
  {
   "cell_type": "code",
   "execution_count": 21,
   "metadata": {
    "execution": {
     "iopub.execute_input": "2024-01-16T16:21:20.806414Z",
     "iopub.status.busy": "2024-01-16T16:21:20.805379Z",
     "iopub.status.idle": "2024-01-16T16:21:20.818868Z",
     "shell.execute_reply": "2024-01-16T16:21:20.817077Z",
     "shell.execute_reply.started": "2024-01-16T16:21:20.806335Z"
    }
   },
   "outputs": [],
   "source": [
    "Y_pred = model.predict(X_test_vectorize)"
   ]
  },
  {
   "cell_type": "markdown",
   "metadata": {},
   "source": [
    "# Print a few rows comparing our training data with the predicted data."
   ]
  },
  {
   "cell_type": "code",
   "execution_count": 22,
   "metadata": {
    "execution": {
     "iopub.execute_input": "2024-01-16T16:21:20.823900Z",
     "iopub.status.busy": "2024-01-16T16:21:20.822126Z",
     "iopub.status.idle": "2024-01-16T16:21:20.845525Z",
     "shell.execute_reply": "2024-01-16T16:21:20.844419Z",
     "shell.execute_reply.started": "2024-01-16T16:21:20.823850Z"
    }
   },
   "outputs": [
    {
     "name": "stdout",
     "output_type": "stream",
     "text": [
      "         Actual  Predicted\n",
      "0     excellent  excellent\n",
      "1     excellent  excellent\n",
      "2           bad        bad\n",
      "3     excellent  excellent\n",
      "4          good       good\n",
      "...         ...        ...\n",
      "5991  excellent  excellent\n",
      "5992  excellent  excellent\n",
      "5993   very bad   very bad\n",
      "5994    neutral    neutral\n",
      "5995       good       good\n",
      "\n",
      "[5996 rows x 2 columns]\n"
     ]
    }
   ],
   "source": [
    "results = pd.DataFrame({'Actual': Y_train, 'Predicted': train_predict})\n",
    "\n",
    "print(results)"
   ]
  }
 ],
 "metadata": {
  "kaggle": {
   "accelerator": "none",
   "dataSources": [
    {
     "datasetId": 3697155,
     "sourceId": 6410731,
     "sourceType": "datasetVersion"
    }
   ],
   "dockerImageVersionId": 30635,
   "isGpuEnabled": false,
   "isInternetEnabled": true,
   "language": "python",
   "sourceType": "notebook"
  },
  "kernelspec": {
   "display_name": "Python 3 (ipykernel)",
   "language": "python",
   "name": "python3"
  },
  "language_info": {
   "codemirror_mode": {
    "name": "ipython",
    "version": 3
   },
   "file_extension": ".py",
   "mimetype": "text/x-python",
   "name": "python",
   "nbconvert_exporter": "python",
   "pygments_lexer": "ipython3",
   "version": "3.7.11"
  }
 },
 "nbformat": 4,
 "nbformat_minor": 4
}
